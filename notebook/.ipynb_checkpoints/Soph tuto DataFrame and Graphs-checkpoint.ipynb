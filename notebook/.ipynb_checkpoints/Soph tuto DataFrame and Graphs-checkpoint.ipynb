{
 "cells": [
  {
   "cell_type": "markdown",
   "metadata": {},
   "source": [
    "# DataFrame et Graphs"
   ]
  },
  {
   "cell_type": "code",
   "execution_count": 1,
   "metadata": {},
   "outputs": [],
   "source": [
    "import matplotlib.pyplot as plt"
   ]
  },
  {
   "cell_type": "code",
   "execution_count": 2,
   "metadata": {},
   "outputs": [
    {
     "data": {
      "text/html": [
       "<div id=\"my_id_menu_nb\">run previous cell, wait for 2 seconds</div>\n",
       "<script>\n",
       "function repeat_indent_string(n){\n",
       "    var a = \"\" ;\n",
       "    for ( ; n > 0 ; --n)\n",
       "        a += \"    \";\n",
       "    return a;\n",
       "}\n",
       "// look up into all sections and builds an automated menu //\n",
       "var update_menu_string = function(begin, lfirst, llast, sformat, send, keep_item, begin_format, end_format) {\n",
       "    var anchors = document.getElementsByClassName(\"section\");\n",
       "    if (anchors.length == 0) {\n",
       "        anchors = document.getElementsByClassName(\"text_cell_render rendered_html\");\n",
       "    }\n",
       "    var i,t;\n",
       "    var text_menu = begin;\n",
       "    var text_memo = \"<pre>\\nlength:\" + anchors.length + \"\\n\";\n",
       "    var ind = \"\";\n",
       "    var memo_level = 1;\n",
       "    var href;\n",
       "    var tags = [];\n",
       "    var main_item = 0;\n",
       "    var format_open = 0;\n",
       "    for (i = 0; i <= llast; i++)\n",
       "        tags.push(\"h\" + i);\n",
       "\n",
       "    for (i = 0; i < anchors.length; i++) {\n",
       "        text_memo += \"**\" + anchors[i].id + \"--\\n\";\n",
       "\n",
       "        var child = null;\n",
       "        for(t = 0; t < tags.length; t++) {\n",
       "            var r = anchors[i].getElementsByTagName(tags[t]);\n",
       "            if (r.length > 0) {\n",
       "child = r[0];\n",
       "break;\n",
       "            }\n",
       "        }\n",
       "        if (child == null) {\n",
       "            text_memo += \"null\\n\";\n",
       "            continue;\n",
       "        }\n",
       "        if (anchors[i].hasAttribute(\"id\")) {\n",
       "            // when converted in RST\n",
       "            href = anchors[i].id;\n",
       "            text_memo += \"#1-\" + href;\n",
       "            // passer à child suivant (le chercher)\n",
       "        }\n",
       "        else if (child.hasAttribute(\"id\")) {\n",
       "            // in a notebook\n",
       "            href = child.id;\n",
       "            text_memo += \"#2-\" + href;\n",
       "        }\n",
       "        else {\n",
       "            text_memo += \"#3-\" + \"*\" + \"\\n\";\n",
       "            continue;\n",
       "        }\n",
       "        var title = child.textContent;\n",
       "        var level = parseInt(child.tagName.substring(1,2));\n",
       "\n",
       "        text_memo += \"--\" + level + \"?\" + lfirst + \"--\" + title + \"\\n\";\n",
       "\n",
       "        if ((level < lfirst) || (level > llast)) {\n",
       "            continue ;\n",
       "        }\n",
       "        if (title.endsWith('¶')) {\n",
       "            title = title.substring(0,title.length-1).replace(\"<\", \"&lt;\")\n",
       "         .replace(\">\", \"&gt;\").replace(\"&\", \"&amp;\");\n",
       "        }\n",
       "        if (title.length == 0) {\n",
       "            continue;\n",
       "        }\n",
       "\n",
       "        while (level < memo_level) {\n",
       "            text_menu += end_format + \"</ul>\\n\";\n",
       "            format_open -= 1;\n",
       "            memo_level -= 1;\n",
       "        }\n",
       "        if (level == lfirst) {\n",
       "            main_item += 1;\n",
       "        }\n",
       "        if (keep_item != -1 && main_item != keep_item + 1) {\n",
       "            // alert(main_item + \" - \" + level + \" - \" + keep_item);\n",
       "            continue;\n",
       "        }\n",
       "        while (level > memo_level) {\n",
       "            text_menu += \"<ul>\\n\";\n",
       "            memo_level += 1;\n",
       "        }\n",
       "        text_menu += repeat_indent_string(level-2);\n",
       "        text_menu += begin_format + sformat.replace(\"__HREF__\", href).replace(\"__TITLE__\", title);\n",
       "        format_open += 1;\n",
       "    }\n",
       "    while (1 < memo_level) {\n",
       "        text_menu += end_format + \"</ul>\\n\";\n",
       "        memo_level -= 1;\n",
       "        format_open -= 1;\n",
       "    }\n",
       "    text_menu += send;\n",
       "    //text_menu += \"\\n\" + text_memo;\n",
       "\n",
       "    while (format_open > 0) {\n",
       "        text_menu += end_format;\n",
       "        format_open -= 1;\n",
       "    }\n",
       "    return text_menu;\n",
       "};\n",
       "var update_menu = function() {\n",
       "    var sbegin = \"\";\n",
       "    var sformat = '<a href=\"#__HREF__\">__TITLE__</a>';\n",
       "    var send = \"\";\n",
       "    var begin_format = '<li>';\n",
       "    var end_format = '</li>';\n",
       "    var keep_item = -1;\n",
       "    var text_menu = update_menu_string(sbegin, 2, 4, sformat, send, keep_item,\n",
       "       begin_format, end_format);\n",
       "    var menu = document.getElementById(\"my_id_menu_nb\");\n",
       "    menu.innerHTML=text_menu;\n",
       "};\n",
       "window.setTimeout(update_menu,2000);\n",
       "            </script>"
      ],
      "text/plain": [
       "<IPython.core.display.HTML object>"
      ]
     },
     "execution_count": 2,
     "metadata": {},
     "output_type": "execute_result"
    }
   ],
   "source": [
    "from jyquickhelper import add_notebook_menu\n",
    "add_notebook_menu()"
   ]
  },
  {
   "cell_type": "markdown",
   "metadata": {},
   "source": [
    "## DataFrame\n",
    "\n",
    "In short, it is the equivalent of an excel sheet or an SQL table."
   ]
  },
  {
   "cell_type": "code",
   "execution_count": 3,
   "metadata": {},
   "outputs": [
    {
     "data": {
      "image/png": "[encoded data removed]",
      "text/plain": [
       "<IPython.core.display.Image object>"
      ]
     },
     "execution_count": 4,
     "metadata": {},
     "output_type": "execute_result"
    }
   ],
   "source": [
    "from pyquickhelper.helpgen import NbImage\n",
    "NbImage(\"td2df.png\")"
   ]
  },
  {
   "cell_type": "markdown",
   "metadata": {},
   "source": [
    "To manipulate DataFrames we use [pandas](http://pandas.pydata.org/)."
   ]
  },
  {
   "cell_type": "markdown",
   "metadata": {},
   "source": [
    "## DataFrame (pandas)\n",
    "\n",
    "**some links :** [An Introduction to Pandas](http://synesthesiam.com/posts/an-introduction-to-pandas.html)\n",
    "\n",
    "A [Dataframe](http://pandas.pydata.org/pandas-docs/dev/generated/pandas.DataFrame.html) represents a table of data, i.e. a collection of columns.\n",
    "These columns/rows can have different types (numeric, string, bool)."
   ]
  },
  {
   "cell_type": "code",
   "execution_count": 5,
   "metadata": {},
   "outputs": [
    {
     "data": {
      "text/html": [
       "<div>\n",
       "<style scoped>\n",
       "    .dataframe tbody tr th:only-of-type {\n",
       "        vertical-align: middle;\n",
       "    }\n",
       "\n",
       "    .dataframe tbody tr th {\n",
       "        vertical-align: top;\n",
       "    }\n",
       "\n",
       "    .dataframe thead th {\n",
       "        text-align: right;\n",
       "    }\n",
       "</style>\n",
       "<table border=\"1\" class=\"dataframe\">\n",
       "  <thead>\n",
       "    <tr style=\"text-align: right;\">\n",
       "      <th></th>\n",
       "      <th>date</th>\n",
       "      <th>prix</th>\n",
       "      <th>devise</th>\n",
       "    </tr>\n",
       "  </thead>\n",
       "  <tbody>\n",
       "    <tr>\n",
       "      <td>0</td>\n",
       "      <td>2014-06-22</td>\n",
       "      <td>220.0</td>\n",
       "      <td>euros</td>\n",
       "    </tr>\n",
       "    <tr>\n",
       "      <td>1</td>\n",
       "      <td>2014-06-23</td>\n",
       "      <td>221.0</td>\n",
       "      <td>euros</td>\n",
       "    </tr>\n",
       "  </tbody>\n",
       "</table>\n",
       "</div>"
      ],
      "text/plain": [
       "         date   prix devise\n",
       "0  2014-06-22  220.0  euros\n",
       "1  2014-06-23  221.0  euros"
      ]
     },
     "execution_count": 5,
     "metadata": {},
     "output_type": "execute_result"
    }
   ],
   "source": [
    "import pandas as pd\n",
    "l = [ { \"date\":\"2014-06-22\", \"prix\":220.0, \"devise\":\"euros\" }, \n",
    "      { \"date\":\"2014-06-23\", \"prix\":221.0, \"devise\":\"euros\" },]\n",
    "df = pd.DataFrame(l)\n",
    "df"
   ]
  },
  {
   "cell_type": "markdown",
   "metadata": {},
   "source": [
    "With missing values :"
   ]
  },
  {
   "cell_type": "code",
   "execution_count": 27,
   "metadata": {},
   "outputs": [
    {
     "data": {
      "text/html": [
       "<div>\n",
       "<style scoped>\n",
       "    .dataframe tbody tr th:only-of-type {\n",
       "        vertical-align: middle;\n",
       "    }\n",
       "\n",
       "    .dataframe tbody tr th {\n",
       "        vertical-align: top;\n",
       "    }\n",
       "\n",
       "    .dataframe thead th {\n",
       "        text-align: right;\n",
       "    }\n",
       "</style>\n",
       "<table border=\"1\" class=\"dataframe\">\n",
       "  <thead>\n",
       "    <tr style=\"text-align: right;\">\n",
       "      <th></th>\n",
       "      <th>date</th>\n",
       "      <th>price</th>\n",
       "      <th>currency</th>\n",
       "    </tr>\n",
       "  </thead>\n",
       "  <tbody>\n",
       "    <tr>\n",
       "      <td>0</td>\n",
       "      <td>2014-06-22</td>\n",
       "      <td>220.0</td>\n",
       "      <td>euros</td>\n",
       "    </tr>\n",
       "    <tr>\n",
       "      <td>1</td>\n",
       "      <td>2014-06-23</td>\n",
       "      <td>NaN</td>\n",
       "      <td>euros</td>\n",
       "    </tr>\n",
       "    <tr>\n",
       "      <td>2</td>\n",
       "      <td>2014-06-23</td>\n",
       "      <td>100.0</td>\n",
       "      <td>usd</td>\n",
       "    </tr>\n",
       "    <tr>\n",
       "      <td>3</td>\n",
       "      <td>2014-06-23</td>\n",
       "      <td>NaN</td>\n",
       "      <td>euros</td>\n",
       "    </tr>\n",
       "  </tbody>\n",
       "</table>\n",
       "</div>"
      ],
      "text/plain": [
       "         date  price currency\n",
       "0  2014-06-22  220.0    euros\n",
       "1  2014-06-23    NaN    euros\n",
       "2  2014-06-23  100.0      usd\n",
       "3  2014-06-23    NaN    euros"
      ]
     },
     "execution_count": 27,
     "metadata": {},
     "output_type": "execute_result"
    }
   ],
   "source": [
    "l = [ { \"date\":\"2014-06-22\", \"price\":220.0, \"currency\":\"euros\" }, \n",
    "      { \"date\":\"2014-06-23\", \"currency\":\"euros\"  },\n",
    "        { \"date\":\"2014-06-23\", \"price\":100.0, \"currency\":\"usd\"  },\n",
    "        { \"date\":\"2014-06-23\", \"currency\":\"euros\"  } ]\n",
    "df = pd.DataFrame(l)\n",
    "df"
   ]
  },
  {
   "cell_type": "markdown",
   "metadata": {},
   "source": [
    "[NaN](http://docs.scipy.org/doc/numpy/reference/generated/numpy.isnan.html#numpy.isnan) is a convention for missing value. "
   ]
  },
  {
   "cell_type": "markdown",
   "metadata": {},
   "source": [
    "We extract the ``price`` :"
   ]
  },
  {
   "cell_type": "code",
   "execution_count": 29,
   "metadata": {},
   "outputs": [
    {
     "data": {
      "text/plain": [
       "0    220.0\n",
       "1      NaN\n",
       "2    100.0\n",
       "3      NaN\n",
       "Name: price, dtype: float64"
      ]
     },
     "execution_count": 29,
     "metadata": {},
     "output_type": "execute_result"
    }
   ],
   "source": [
    "df[\"price\"]"
   ]
  },
  {
   "cell_type": "markdown",
   "metadata": {},
   "source": [
    "Or :"
   ]
  },
  {
   "cell_type": "code",
   "execution_count": 30,
   "metadata": {},
   "outputs": [
    {
     "data": {
      "text/plain": [
       "0    220.0\n",
       "1      NaN\n",
       "2    100.0\n",
       "3      NaN\n",
       "Name: price, dtype: float64"
      ]
     },
     "execution_count": 30,
     "metadata": {},
     "output_type": "execute_result"
    }
   ],
   "source": [
    "df.price"
   ]
  },
  {
   "cell_type": "markdown",
   "metadata": {},
   "source": [
    "To extract several columns :"
   ]
  },
  {
   "cell_type": "code",
   "execution_count": 31,
   "metadata": {},
   "outputs": [
    {
     "data": {
      "text/html": [
       "<div>\n",
       "<style scoped>\n",
       "    .dataframe tbody tr th:only-of-type {\n",
       "        vertical-align: middle;\n",
       "    }\n",
       "\n",
       "    .dataframe tbody tr th {\n",
       "        vertical-align: top;\n",
       "    }\n",
       "\n",
       "    .dataframe thead th {\n",
       "        text-align: right;\n",
       "    }\n",
       "</style>\n",
       "<table border=\"1\" class=\"dataframe\">\n",
       "  <thead>\n",
       "    <tr style=\"text-align: right;\">\n",
       "      <th></th>\n",
       "      <th>date</th>\n",
       "      <th>price</th>\n",
       "    </tr>\n",
       "  </thead>\n",
       "  <tbody>\n",
       "    <tr>\n",
       "      <td>0</td>\n",
       "      <td>2014-06-22</td>\n",
       "      <td>220.0</td>\n",
       "    </tr>\n",
       "    <tr>\n",
       "      <td>1</td>\n",
       "      <td>2014-06-23</td>\n",
       "      <td>NaN</td>\n",
       "    </tr>\n",
       "    <tr>\n",
       "      <td>2</td>\n",
       "      <td>2014-06-23</td>\n",
       "      <td>100.0</td>\n",
       "    </tr>\n",
       "    <tr>\n",
       "      <td>3</td>\n",
       "      <td>2014-06-23</td>\n",
       "      <td>NaN</td>\n",
       "    </tr>\n",
       "  </tbody>\n",
       "</table>\n",
       "</div>"
      ],
      "text/plain": [
       "         date  price\n",
       "0  2014-06-22  220.0\n",
       "1  2014-06-23    NaN\n",
       "2  2014-06-23  100.0\n",
       "3  2014-06-23    NaN"
      ]
     },
     "execution_count": 31,
     "metadata": {},
     "output_type": "execute_result"
    }
   ],
   "source": [
    "df[[\"date\",\"price\"]]"
   ]
  },
  {
   "cell_type": "markdown",
   "metadata": {},
   "source": [
    "To transpose (see [DataFrame.transpose](http://pandas.pydata.org/pandas-docs/stable/generated/pandas.Panel.transpose.html)) :"
   ]
  },
  {
   "cell_type": "code",
   "execution_count": 33,
   "metadata": {},
   "outputs": [
    {
     "data": {
      "text/html": [
       "<div>\n",
       "<style scoped>\n",
       "    .dataframe tbody tr th:only-of-type {\n",
       "        vertical-align: middle;\n",
       "    }\n",
       "\n",
       "    .dataframe tbody tr th {\n",
       "        vertical-align: top;\n",
       "    }\n",
       "\n",
       "    .dataframe thead th {\n",
       "        text-align: right;\n",
       "    }\n",
       "</style>\n",
       "<table border=\"1\" class=\"dataframe\">\n",
       "  <thead>\n",
       "    <tr style=\"text-align: right;\">\n",
       "      <th></th>\n",
       "      <th>0</th>\n",
       "      <th>1</th>\n",
       "      <th>2</th>\n",
       "      <th>3</th>\n",
       "    </tr>\n",
       "  </thead>\n",
       "  <tbody>\n",
       "    <tr>\n",
       "      <td>date</td>\n",
       "      <td>2014-06-22</td>\n",
       "      <td>2014-06-23</td>\n",
       "      <td>2014-06-23</td>\n",
       "      <td>2014-06-23</td>\n",
       "    </tr>\n",
       "    <tr>\n",
       "      <td>price</td>\n",
       "      <td>220</td>\n",
       "      <td>NaN</td>\n",
       "      <td>100</td>\n",
       "      <td>NaN</td>\n",
       "    </tr>\n",
       "    <tr>\n",
       "      <td>currency</td>\n",
       "      <td>euros</td>\n",
       "      <td>euros</td>\n",
       "      <td>usd</td>\n",
       "      <td>euros</td>\n",
       "    </tr>\n",
       "  </tbody>\n",
       "</table>\n",
       "</div>"
      ],
      "text/plain": [
       "                   0           1           2           3\n",
       "date      2014-06-22  2014-06-23  2014-06-23  2014-06-23\n",
       "price            220         NaN         100         NaN\n",
       "currency       euros       euros         usd       euros"
      ]
     },
     "execution_count": 33,
     "metadata": {},
     "output_type": "execute_result"
    }
   ],
   "source": [
    "df.T"
   ]
  },
  {
   "cell_type": "markdown",
   "metadata": {},
   "source": [
    "look at the following:"
   ]
  },
  {
   "cell_type": "code",
   "execution_count": 36,
   "metadata": {},
   "outputs": [
    {
     "data": {
      "text/plain": [
       "0    False\n",
       "1     True\n",
       "2    False\n",
       "3     True\n",
       "Name: price, dtype: bool"
      ]
     },
     "execution_count": 36,
     "metadata": {},
     "output_type": "execute_result"
    }
   ],
   "source": [
    "pd.isnull(df[\"price\"])"
   ]
  },
  {
   "cell_type": "code",
   "execution_count": 37,
   "metadata": {},
   "outputs": [
    {
     "data": {
      "text/plain": [
       "0     True\n",
       "1    False\n",
       "2     True\n",
       "3    False\n",
       "Name: price, dtype: bool"
      ]
     },
     "execution_count": 37,
     "metadata": {},
     "output_type": "execute_result"
    }
   ],
   "source": [
    "pd.notnull(df[\"price\"])"
   ]
  },
  {
   "cell_type": "markdown",
   "metadata": {},
   "source": [
    "basically, it provides a filter to select only the rows with non-missing values:"
   ]
  },
  {
   "cell_type": "code",
   "execution_count": 39,
   "metadata": {},
   "outputs": [
    {
     "data": {
      "text/html": [
       "<div>\n",
       "<style scoped>\n",
       "    .dataframe tbody tr th:only-of-type {\n",
       "        vertical-align: middle;\n",
       "    }\n",
       "\n",
       "    .dataframe tbody tr th {\n",
       "        vertical-align: top;\n",
       "    }\n",
       "\n",
       "    .dataframe thead th {\n",
       "        text-align: right;\n",
       "    }\n",
       "</style>\n",
       "<table border=\"1\" class=\"dataframe\">\n",
       "  <thead>\n",
       "    <tr style=\"text-align: right;\">\n",
       "      <th></th>\n",
       "      <th>date</th>\n",
       "      <th>price</th>\n",
       "      <th>currency</th>\n",
       "    </tr>\n",
       "  </thead>\n",
       "  <tbody>\n",
       "    <tr>\n",
       "      <td>0</td>\n",
       "      <td>2014-06-22</td>\n",
       "      <td>220.0</td>\n",
       "      <td>euros</td>\n",
       "    </tr>\n",
       "    <tr>\n",
       "      <td>2</td>\n",
       "      <td>2014-06-23</td>\n",
       "      <td>100.0</td>\n",
       "      <td>usd</td>\n",
       "    </tr>\n",
       "  </tbody>\n",
       "</table>\n",
       "</div>"
      ],
      "text/plain": [
       "         date  price currency\n",
       "0  2014-06-22  220.0    euros\n",
       "2  2014-06-23  100.0      usd"
      ]
     },
     "execution_count": 39,
     "metadata": {},
     "output_type": "execute_result"
    }
   ],
   "source": [
    "notmissing = df[ ~df[\"price\"].isnull() ] # equivalent to notmissing = df[ df[\"price\"].notnull() ]\n",
    "notmissing"
   ]
  },
  {
   "cell_type": "markdown",
   "metadata": {},
   "source": [
    "### Read and write to DataFrame\n"
   ]
  },
  {
   "cell_type": "code",
   "execution_count": 17,
   "metadata": {},
   "outputs": [
    {
     "name": "stdout",
     "output_type": "stream",
     "text": [
      "date\tdevise\tprix\n",
      "2014-06-22\teuros\t220.0\n",
      "2014-06-23\teuros\t221.0\n",
      "\n"
     ]
    },
    {
     "data": {
      "text/plain": [
       "[]"
      ]
     },
     "execution_count": 18,
     "metadata": {},
     "output_type": "execute_result"
    }
   ],
   "source": [
    "import pandas as pd\n",
    "l = [ { \"date\":\"2014-06-22\", \"price\":220.0, \"currency\":\"euros\" }, \n",
    "      { \"date\":\"2014-06-23\", \"price\":221.0, \"currency\":\"euros\" },]\n",
    "df = pd.DataFrame(l)\n",
    "\n",
    "# write in text format\n",
    "df.to_csv(\"exemple.txt\",sep=\"\\t\",encoding=\"utf-8\", index=False)\n",
    "\n",
    "# check what was written in\n",
    "with open(\"exemple.txt\", \"r\", encoding=\"utf-8\") as f: \n",
    "    text = f.read()\n",
    "print(text)\n",
    "\n",
    "# save to Excel format\n",
    "df.to_excel(\"exemple.xlsx\", index=False)\n",
    "\n",
    "# run that to open it with excel\n",
    "%system \"exemple.xlsx\""
   ]
  },
  {
   "cell_type": "code",
   "execution_count": 11,
   "metadata": {},
   "outputs": [
    {
     "data": {
      "text/html": [
       "<div>\n",
       "<style scoped>\n",
       "    .dataframe tbody tr th:only-of-type {\n",
       "        vertical-align: middle;\n",
       "    }\n",
       "\n",
       "    .dataframe tbody tr th {\n",
       "        vertical-align: top;\n",
       "    }\n",
       "\n",
       "    .dataframe thead th {\n",
       "        text-align: right;\n",
       "    }\n",
       "</style>\n",
       "<table border=\"1\" class=\"dataframe\">\n",
       "  <thead>\n",
       "    <tr style=\"text-align: right;\">\n",
       "      <th></th>\n",
       "      <th>city</th>\n",
       "      <th>year</th>\n",
       "      <th>time</th>\n",
       "      <th>seconds</th>\n",
       "    </tr>\n",
       "  </thead>\n",
       "  <tbody>\n",
       "    <tr>\n",
       "      <td>0</td>\n",
       "      <td>PARIS</td>\n",
       "      <td>2011</td>\n",
       "      <td>02:06:29</td>\n",
       "      <td>7589</td>\n",
       "    </tr>\n",
       "    <tr>\n",
       "      <td>1</td>\n",
       "      <td>PARIS</td>\n",
       "      <td>2010</td>\n",
       "      <td>02:06:41</td>\n",
       "      <td>7601</td>\n",
       "    </tr>\n",
       "    <tr>\n",
       "      <td>2</td>\n",
       "      <td>PARIS</td>\n",
       "      <td>2009</td>\n",
       "      <td>02:05:47</td>\n",
       "      <td>7547</td>\n",
       "    </tr>\n",
       "    <tr>\n",
       "      <td>3</td>\n",
       "      <td>PARIS</td>\n",
       "      <td>2008</td>\n",
       "      <td>02:06:40</td>\n",
       "      <td>7600</td>\n",
       "    </tr>\n",
       "    <tr>\n",
       "      <td>4</td>\n",
       "      <td>PARIS</td>\n",
       "      <td>2007</td>\n",
       "      <td>02:07:17</td>\n",
       "      <td>7637</td>\n",
       "    </tr>\n",
       "  </tbody>\n",
       "</table>\n",
       "</div>"
      ],
      "text/plain": [
       "    city  year      time  seconds\n",
       "0  PARIS  2011  02:06:29     7589\n",
       "1  PARIS  2010  02:06:41     7601\n",
       "2  PARIS  2009  02:05:47     7547\n",
       "3  PARIS  2008  02:06:40     7600\n",
       "4  PARIS  2007  02:07:17     7637"
      ]
     },
     "execution_count": 11,
     "metadata": {},
     "output_type": "execute_result"
    }
   ],
   "source": [
    "from ensae_teaching_cs.data import marathon\n",
    "import pandas\n",
    "df = pandas.read_csv(marathon(filename=True),\n",
    "                     sep=\"\\t\", names=[\"city\", \"year\", \"time\",\"seconds\"])\n",
    "\n",
    "df.head()"
   ]
  },
  {
   "cell_type": "markdown",
   "metadata": {},
   "source": [
    "The function [describe](http://pandas.pydata.org/pandas-docs/stable/generated/pandas.DataFrame.describe.html) gives info about the columns of the table like mean, std,..."
   ]
  },
  {
   "cell_type": "code",
   "execution_count": 19,
   "metadata": {},
   "outputs": [
    {
     "data": {
      "text/html": [
       "<div>\n",
       "<style>\n",
       "    .dataframe thead tr:only-child th {\n",
       "        text-align: right;\n",
       "    }\n",
       "\n",
       "    .dataframe thead th {\n",
       "        text-align: left;\n",
       "    }\n",
       "\n",
       "    .dataframe tbody tr th {\n",
       "        vertical-align: top;\n",
       "    }\n",
       "</style>\n",
       "<table border=\"1\" class=\"dataframe\">\n",
       "  <thead>\n",
       "    <tr style=\"text-align: right;\">\n",
       "      <th></th>\n",
       "      <th>annee</th>\n",
       "      <th>secondes</th>\n",
       "    </tr>\n",
       "  </thead>\n",
       "  <tbody>\n",
       "    <tr>\n",
       "      <th>count</th>\n",
       "      <td>359.000000</td>\n",
       "      <td>359.000000</td>\n",
       "    </tr>\n",
       "    <tr>\n",
       "      <th>mean</th>\n",
       "      <td>1989.754875</td>\n",
       "      <td>7933.660167</td>\n",
       "    </tr>\n",
       "    <tr>\n",
       "      <th>std</th>\n",
       "      <td>14.028545</td>\n",
       "      <td>385.289830</td>\n",
       "    </tr>\n",
       "    <tr>\n",
       "      <th>min</th>\n",
       "      <td>1947.000000</td>\n",
       "      <td>7382.000000</td>\n",
       "    </tr>\n",
       "    <tr>\n",
       "      <th>25%</th>\n",
       "      <td>1981.000000</td>\n",
       "      <td>7698.000000</td>\n",
       "    </tr>\n",
       "    <tr>\n",
       "      <th>50%</th>\n",
       "      <td>1991.000000</td>\n",
       "      <td>7820.000000</td>\n",
       "    </tr>\n",
       "    <tr>\n",
       "      <th>75%</th>\n",
       "      <td>2001.000000</td>\n",
       "      <td>8046.500000</td>\n",
       "    </tr>\n",
       "    <tr>\n",
       "      <th>max</th>\n",
       "      <td>2011.000000</td>\n",
       "      <td>10028.000000</td>\n",
       "    </tr>\n",
       "  </tbody>\n",
       "</table>\n",
       "</div>"
      ],
      "text/plain": [
       "             annee      secondes\n",
       "count   359.000000    359.000000\n",
       "mean   1989.754875   7933.660167\n",
       "std      14.028545    385.289830\n",
       "min    1947.000000   7382.000000\n",
       "25%    1981.000000   7698.000000\n",
       "50%    1991.000000   7820.000000\n",
       "75%    2001.000000   8046.500000\n",
       "max    2011.000000  10028.000000"
      ]
     },
     "execution_count": 20,
     "metadata": {},
     "output_type": "execute_result"
    }
   ],
   "source": [
    "df.describe()"
   ]
  },
  {
   "cell_type": "markdown",
   "metadata": {},
   "source": [
    "### DataFrame et Index\n",
    "\n",
    "A column or *variable* is referred to by its name. The rows can be referred to by an integer."
   ]
  },
  {
   "cell_type": "code",
   "execution_count": 12,
   "metadata": {},
   "outputs": [
    {
     "data": {
      "text/html": [
       "<div>\n",
       "<style scoped>\n",
       "    .dataframe tbody tr th:only-of-type {\n",
       "        vertical-align: middle;\n",
       "    }\n",
       "\n",
       "    .dataframe tbody tr th {\n",
       "        vertical-align: top;\n",
       "    }\n",
       "\n",
       "    .dataframe thead th {\n",
       "        text-align: right;\n",
       "    }\n",
       "</style>\n",
       "<table border=\"1\" class=\"dataframe\">\n",
       "  <thead>\n",
       "    <tr style=\"text-align: right;\">\n",
       "      <th></th>\n",
       "      <th>date</th>\n",
       "      <th>price</th>\n",
       "      <th>currency</th>\n",
       "    </tr>\n",
       "  </thead>\n",
       "  <tbody>\n",
       "    <tr>\n",
       "      <td>0</td>\n",
       "      <td>2014-06-22</td>\n",
       "      <td>220.0</td>\n",
       "      <td>euros</td>\n",
       "    </tr>\n",
       "    <tr>\n",
       "      <td>1</td>\n",
       "      <td>2014-06-23</td>\n",
       "      <td>221.0</td>\n",
       "      <td>euros</td>\n",
       "    </tr>\n",
       "  </tbody>\n",
       "</table>\n",
       "</div>"
      ],
      "text/plain": [
       "         date  price currency\n",
       "0  2014-06-22  220.0    euros\n",
       "1  2014-06-23  221.0    euros"
      ]
     },
     "execution_count": 12,
     "metadata": {},
     "output_type": "execute_result"
    }
   ],
   "source": [
    "import pandas\n",
    "l = [ { \"date\":\"2014-06-22\", \"price\":220.0, \"currency\":\"euros\" }, \n",
    "      { \"date\":\"2014-06-23\", \"price\":221.0, \"currency\":\"euros\" },]\n",
    "df = pandas.DataFrame(l)\n",
    "df"
   ]
  },
  {
   "cell_type": "markdown",
   "metadata": {},
   "source": [
    "We can extract a row with ([iloc](http://pandas.pydata.org/pandas-docs/dev/generated/pandas.DataFrame.iloc.html))."
   ]
  },
  {
   "cell_type": "code",
   "execution_count": 13,
   "metadata": {},
   "outputs": [
    {
     "data": {
      "text/plain": [
       "date        2014-06-23\n",
       "price              221\n",
       "currency         euros\n",
       "Name: 1, dtype: object"
      ]
     },
     "execution_count": 13,
     "metadata": {},
     "output_type": "execute_result"
    }
   ],
   "source": [
    "df.iloc[1]"
   ]
  },
  {
   "cell_type": "markdown",
   "metadata": {},
   "source": [
    "We can extract a column with [loc]( ou [iloc](https://pandas.pydata.org/pandas-docs/stable/generated/pandas.DataFrame.loc.html)."
   ]
  },
  {
   "cell_type": "code",
   "execution_count": 22,
   "metadata": {},
   "outputs": [
    {
     "data": {
      "text/plain": [
       "date      2014-06-23\n",
       "devise         euros\n",
       "prix             221\n",
       "Name: 1, dtype: object"
      ]
     },
     "execution_count": 23,
     "metadata": {},
     "output_type": "execute_result"
    }
   ],
   "source": [
    "df.loc[1]"
   ]
  },
  {
   "cell_type": "markdown",
   "metadata": {},
   "source": [
    "We extract a value by indicating its position in the table using integers: "
   ]
  },
  {
   "cell_type": "code",
   "execution_count": 23,
   "metadata": {},
   "outputs": [
    {
     "data": {
      "text/plain": [
       "221.0"
      ]
     },
     "execution_count": 24,
     "metadata": {},
     "output_type": "execute_result"
    }
   ],
   "source": [
    "df.iloc[1,2]"
   ]
  },
  {
   "cell_type": "markdown",
   "metadata": {},
   "source": [
    "With [loc](https://pandas.pydata.org/pandas-docs/stable/generated/pandas.DataFrame.loc.html), we need to specify the name of the column."
   ]
  },
  {
   "cell_type": "code",
   "execution_count": 14,
   "metadata": {},
   "outputs": [
    {
     "data": {
      "text/plain": [
       "Index(['date', 'price', 'currency'], dtype='object')"
      ]
     },
     "execution_count": 14,
     "metadata": {},
     "output_type": "execute_result"
    }
   ],
   "source": [
    "df.columns"
   ]
  },
  {
   "cell_type": "code",
   "execution_count": 15,
   "metadata": {},
   "outputs": [
    {
     "data": {
      "text/plain": [
       "221.0"
      ]
     },
     "execution_count": 15,
     "metadata": {},
     "output_type": "execute_result"
    }
   ],
   "source": [
    "df.loc[1,\"price\"]"
   ]
  },
  {
   "cell_type": "markdown",
   "metadata": {},
   "source": [
    "But it is possible to use one or more column for the index ([set_index](http://pandas.pydata.org/pandas-docs/stable/generated/pandas.DataFrame.set_index.html)) :"
   ]
  },
  {
   "cell_type": "code",
   "execution_count": 16,
   "metadata": {},
   "outputs": [
    {
     "data": {
      "text/html": [
       "<div>\n",
       "<style scoped>\n",
       "    .dataframe tbody tr th:only-of-type {\n",
       "        vertical-align: middle;\n",
       "    }\n",
       "\n",
       "    .dataframe tbody tr th {\n",
       "        vertical-align: top;\n",
       "    }\n",
       "\n",
       "    .dataframe thead th {\n",
       "        text-align: right;\n",
       "    }\n",
       "</style>\n",
       "<table border=\"1\" class=\"dataframe\">\n",
       "  <thead>\n",
       "    <tr style=\"text-align: right;\">\n",
       "      <th></th>\n",
       "      <th>price</th>\n",
       "      <th>currency</th>\n",
       "    </tr>\n",
       "    <tr>\n",
       "      <th>date</th>\n",
       "      <th></th>\n",
       "      <th></th>\n",
       "    </tr>\n",
       "  </thead>\n",
       "  <tbody>\n",
       "    <tr>\n",
       "      <td>2014-06-22</td>\n",
       "      <td>220.0</td>\n",
       "      <td>euros</td>\n",
       "    </tr>\n",
       "    <tr>\n",
       "      <td>2014-06-23</td>\n",
       "      <td>221.0</td>\n",
       "      <td>euros</td>\n",
       "    </tr>\n",
       "  </tbody>\n",
       "</table>\n",
       "</div>"
      ],
      "text/plain": [
       "            price currency\n",
       "date                      \n",
       "2014-06-22  220.0    euros\n",
       "2014-06-23  221.0    euros"
      ]
     },
     "execution_count": 16,
     "metadata": {},
     "output_type": "execute_result"
    }
   ],
   "source": [
    "dfi = df.set_index(\"date\")\n",
    "dfi"
   ]
  },
  {
   "cell_type": "markdown",
   "metadata": {},
   "source": [
    "We can now refer to a row with a date using [loc](https://pandas.pydata.org/pandas-docs/stable/generated/pandas.DataFrame.loc.html) (but not [iloc](https://pandas.pydata.org/pandas-docs/stable/generated/pandas.DataFrame.iloc.html) because [iloc](https://pandas.pydata.org/pandas-docs/stable/generated/pandas.DataFrame.iloc.html) only accepts integers to refer to the dimensions indexes)."
   ]
  },
  {
   "cell_type": "code",
   "execution_count": 18,
   "metadata": {},
   "outputs": [
    {
     "data": {
      "text/plain": [
       "price         221\n",
       "currency    euros\n",
       "Name: 2014-06-23, dtype: object"
      ]
     },
     "execution_count": 18,
     "metadata": {},
     "output_type": "execute_result"
    }
   ],
   "source": [
    "dfi.loc[\"2014-06-23\"]"
   ]
  },
  {
   "cell_type": "markdown",
   "metadata": {},
   "source": [
    "It is possible to use several columns as [index](http://pandas.pydata.org/pandas-docs/stable/indexing.html) :"
   ]
  },
  {
   "cell_type": "code",
   "execution_count": 19,
   "metadata": {},
   "outputs": [
    {
     "data": {
      "text/plain": [
       "district    18\n",
       "Name: (dupré, xavier), dtype: int64"
      ]
     },
     "execution_count": 19,
     "metadata": {},
     "output_type": "execute_result"
    }
   ],
   "source": [
    "df = pandas.DataFrame([ {\"first name\":\"xavier\", \"nom\":\"dupré\", \"district\":18}, \n",
    "       {\"first name\":\"clémence\", \"nom\":\"dupré\", \"district\":15 } ])\n",
    "dfi = df.set_index([\"nom\",\"first name\"])\n",
    "dfi.loc[\"dupré\",\"xavier\"]"
   ]
  },
  {
   "cell_type": "markdown",
   "metadata": {},
   "source": [
    "If we want to change or supress the index ([reset_index](http://pandas.pydata.org/pandas-docs/stable/generated/pandas.DataFrame.reset_index.html)) :"
   ]
  },
  {
   "cell_type": "code",
   "execution_count": 21,
   "metadata": {},
   "outputs": [
    {
     "data": {
      "text/html": [
       "<div>\n",
       "<style scoped>\n",
       "    .dataframe tbody tr th:only-of-type {\n",
       "        vertical-align: middle;\n",
       "    }\n",
       "\n",
       "    .dataframe tbody tr th {\n",
       "        vertical-align: top;\n",
       "    }\n",
       "\n",
       "    .dataframe thead th {\n",
       "        text-align: right;\n",
       "    }\n",
       "</style>\n",
       "<table border=\"1\" class=\"dataframe\">\n",
       "  <thead>\n",
       "    <tr style=\"text-align: right;\">\n",
       "      <th></th>\n",
       "      <th></th>\n",
       "      <th>index</th>\n",
       "      <th>first name</th>\n",
       "    </tr>\n",
       "    <tr>\n",
       "      <th>nom</th>\n",
       "      <th>district</th>\n",
       "      <th></th>\n",
       "      <th></th>\n",
       "    </tr>\n",
       "  </thead>\n",
       "  <tbody>\n",
       "    <tr>\n",
       "      <td rowspan=\"2\" valign=\"top\">dupré</td>\n",
       "      <td>18</td>\n",
       "      <td>0</td>\n",
       "      <td>xavier</td>\n",
       "    </tr>\n",
       "    <tr>\n",
       "      <td>15</td>\n",
       "      <td>1</td>\n",
       "      <td>clémence</td>\n",
       "    </tr>\n",
       "  </tbody>\n",
       "</table>\n",
       "</div>"
      ],
      "text/plain": [
       "                index first name\n",
       "nom   district                  \n",
       "dupré 18            0     xavier\n",
       "      15            1   clémence"
      ]
     },
     "execution_count": 21,
     "metadata": {},
     "output_type": "execute_result"
    }
   ],
   "source": [
    "dfi.reset_index(drop=False, inplace=True)  \n",
    "        # the key-word drop to keep or not the columns we used fir the index\n",
    "        # inplace means that we modify the actual object and not a copy of it\n",
    "        # so we can also write dfi2 = dfi.reset_index(drop=False)  \n",
    "dfi.set_index([\"nom\", \"district\"],inplace=True)\n",
    "dfi"
   ]
  },
  {
   "cell_type": "markdown",
   "metadata": {},
   "source": [
    "### Notation with the symbole ``:``\n",
    "\n",
    "Le symbole ``:`` references a range of values."
   ]
  },
  {
   "cell_type": "code",
   "execution_count": 22,
   "metadata": {},
   "outputs": [
    {
     "data": {
      "text/html": [
       "<div>\n",
       "<style scoped>\n",
       "    .dataframe tbody tr th:only-of-type {\n",
       "        vertical-align: middle;\n",
       "    }\n",
       "\n",
       "    .dataframe tbody tr th {\n",
       "        vertical-align: top;\n",
       "    }\n",
       "\n",
       "    .dataframe thead th {\n",
       "        text-align: right;\n",
       "    }\n",
       "</style>\n",
       "<table border=\"1\" class=\"dataframe\">\n",
       "  <thead>\n",
       "    <tr style=\"text-align: right;\">\n",
       "      <th></th>\n",
       "      <th>city</th>\n",
       "      <th>year</th>\n",
       "      <th>time</th>\n",
       "      <th>seconds</th>\n",
       "    </tr>\n",
       "  </thead>\n",
       "  <tbody>\n",
       "    <tr>\n",
       "      <td>0</td>\n",
       "      <td>PARIS</td>\n",
       "      <td>2011</td>\n",
       "      <td>02:06:29</td>\n",
       "      <td>7589</td>\n",
       "    </tr>\n",
       "    <tr>\n",
       "      <td>1</td>\n",
       "      <td>PARIS</td>\n",
       "      <td>2010</td>\n",
       "      <td>02:06:41</td>\n",
       "      <td>7601</td>\n",
       "    </tr>\n",
       "    <tr>\n",
       "      <td>2</td>\n",
       "      <td>PARIS</td>\n",
       "      <td>2009</td>\n",
       "      <td>02:05:47</td>\n",
       "      <td>7547</td>\n",
       "    </tr>\n",
       "    <tr>\n",
       "      <td>3</td>\n",
       "      <td>PARIS</td>\n",
       "      <td>2008</td>\n",
       "      <td>02:06:40</td>\n",
       "      <td>7600</td>\n",
       "    </tr>\n",
       "    <tr>\n",
       "      <td>4</td>\n",
       "      <td>PARIS</td>\n",
       "      <td>2007</td>\n",
       "      <td>02:07:17</td>\n",
       "      <td>7637</td>\n",
       "    </tr>\n",
       "  </tbody>\n",
       "</table>\n",
       "</div>"
      ],
      "text/plain": [
       "    city  year      time  seconds\n",
       "0  PARIS  2011  02:06:29     7589\n",
       "1  PARIS  2010  02:06:41     7601\n",
       "2  PARIS  2009  02:05:47     7547\n",
       "3  PARIS  2008  02:06:40     7600\n",
       "4  PARIS  2007  02:07:17     7637"
      ]
     },
     "execution_count": 22,
     "metadata": {},
     "output_type": "execute_result"
    }
   ],
   "source": [
    "import pandas, urllib.request\n",
    "from ensae_teaching_cs.data import marathon\n",
    "df = pandas.read_csv(marathon(), sep=\"\\t\", names=[\"city\", \"year\", \"time\",\"seconds\"])\n",
    "df.head()"
   ]
  },
  {
   "cell_type": "markdown",
   "metadata": {},
   "source": [
    "We can select a sub-set of rows :"
   ]
  },
  {
   "cell_type": "code",
   "execution_count": 23,
   "metadata": {},
   "outputs": [
    {
     "data": {
      "text/html": [
       "<div>\n",
       "<style scoped>\n",
       "    .dataframe tbody tr th:only-of-type {\n",
       "        vertical-align: middle;\n",
       "    }\n",
       "\n",
       "    .dataframe tbody tr th {\n",
       "        vertical-align: top;\n",
       "    }\n",
       "\n",
       "    .dataframe thead th {\n",
       "        text-align: right;\n",
       "    }\n",
       "</style>\n",
       "<table border=\"1\" class=\"dataframe\">\n",
       "  <thead>\n",
       "    <tr style=\"text-align: right;\">\n",
       "      <th></th>\n",
       "      <th>city</th>\n",
       "      <th>year</th>\n",
       "      <th>time</th>\n",
       "      <th>seconds</th>\n",
       "    </tr>\n",
       "  </thead>\n",
       "  <tbody>\n",
       "    <tr>\n",
       "      <td>3</td>\n",
       "      <td>PARIS</td>\n",
       "      <td>2008</td>\n",
       "      <td>02:06:40</td>\n",
       "      <td>7600</td>\n",
       "    </tr>\n",
       "    <tr>\n",
       "      <td>4</td>\n",
       "      <td>PARIS</td>\n",
       "      <td>2007</td>\n",
       "      <td>02:07:17</td>\n",
       "      <td>7637</td>\n",
       "    </tr>\n",
       "    <tr>\n",
       "      <td>5</td>\n",
       "      <td>PARIS</td>\n",
       "      <td>2006</td>\n",
       "      <td>02:08:03</td>\n",
       "      <td>7683</td>\n",
       "    </tr>\n",
       "  </tbody>\n",
       "</table>\n",
       "</div>"
      ],
      "text/plain": [
       "    city  year      time  seconds\n",
       "3  PARIS  2008  02:06:40     7600\n",
       "4  PARIS  2007  02:07:17     7637\n",
       "5  PARIS  2006  02:08:03     7683"
      ]
     },
     "execution_count": 23,
     "metadata": {},
     "output_type": "execute_result"
    }
   ],
   "source": [
    "df[3:6]"
   ]
  },
  {
   "cell_type": "markdown",
   "metadata": {},
   "source": [
    "We extract the same range but with 2 columns only :"
   ]
  },
  {
   "cell_type": "code",
   "execution_count": 24,
   "metadata": {},
   "outputs": [
    {
     "data": {
      "text/html": [
       "<div>\n",
       "<style scoped>\n",
       "    .dataframe tbody tr th:only-of-type {\n",
       "        vertical-align: middle;\n",
       "    }\n",
       "\n",
       "    .dataframe tbody tr th {\n",
       "        vertical-align: top;\n",
       "    }\n",
       "\n",
       "    .dataframe thead th {\n",
       "        text-align: right;\n",
       "    }\n",
       "</style>\n",
       "<table border=\"1\" class=\"dataframe\">\n",
       "  <thead>\n",
       "    <tr style=\"text-align: right;\">\n",
       "      <th></th>\n",
       "      <th>year</th>\n",
       "      <th>time</th>\n",
       "    </tr>\n",
       "  </thead>\n",
       "  <tbody>\n",
       "    <tr>\n",
       "      <td>3</td>\n",
       "      <td>2008</td>\n",
       "      <td>02:06:40</td>\n",
       "    </tr>\n",
       "    <tr>\n",
       "      <td>4</td>\n",
       "      <td>2007</td>\n",
       "      <td>02:07:17</td>\n",
       "    </tr>\n",
       "    <tr>\n",
       "      <td>5</td>\n",
       "      <td>2006</td>\n",
       "      <td>02:08:03</td>\n",
       "    </tr>\n",
       "    <tr>\n",
       "      <td>6</td>\n",
       "      <td>2005</td>\n",
       "      <td>02:08:02</td>\n",
       "    </tr>\n",
       "  </tbody>\n",
       "</table>\n",
       "</div>"
      ],
      "text/plain": [
       "   year      time\n",
       "3  2008  02:06:40\n",
       "4  2007  02:07:17\n",
       "5  2006  02:08:03\n",
       "6  2005  02:08:02"
      ]
     },
     "execution_count": 24,
     "metadata": {},
     "output_type": "execute_result"
    }
   ],
   "source": [
    "df.loc[3:6,[\"year\",\"time\"]]"
   ]
  },
  {
   "cell_type": "markdown",
   "metadata": {},
   "source": [
    "Same code, for which we rename the extracted columns:"
   ]
  },
  {
   "cell_type": "code",
   "execution_count": 25,
   "metadata": {},
   "outputs": [
    {
     "data": {
      "text/html": [
       "<div>\n",
       "<style scoped>\n",
       "    .dataframe tbody tr th:only-of-type {\n",
       "        vertical-align: middle;\n",
       "    }\n",
       "\n",
       "    .dataframe tbody tr th {\n",
       "        vertical-align: top;\n",
       "    }\n",
       "\n",
       "    .dataframe thead th {\n",
       "        text-align: right;\n",
       "    }\n",
       "</style>\n",
       "<table border=\"1\" class=\"dataframe\">\n",
       "  <thead>\n",
       "    <tr style=\"text-align: right;\">\n",
       "      <th></th>\n",
       "      <th>the year</th>\n",
       "      <th>the time</th>\n",
       "    </tr>\n",
       "  </thead>\n",
       "  <tbody>\n",
       "    <tr>\n",
       "      <td>3</td>\n",
       "      <td>2008</td>\n",
       "      <td>02:06:40</td>\n",
       "    </tr>\n",
       "    <tr>\n",
       "      <td>4</td>\n",
       "      <td>2007</td>\n",
       "      <td>02:07:17</td>\n",
       "    </tr>\n",
       "    <tr>\n",
       "      <td>5</td>\n",
       "      <td>2006</td>\n",
       "      <td>02:08:03</td>\n",
       "    </tr>\n",
       "    <tr>\n",
       "      <td>6</td>\n",
       "      <td>2005</td>\n",
       "      <td>02:08:02</td>\n",
       "    </tr>\n",
       "  </tbody>\n",
       "</table>\n",
       "</div>"
      ],
      "text/plain": [
       "   the year  the time\n",
       "3      2008  02:06:40\n",
       "4      2007  02:07:17\n",
       "5      2006  02:08:03\n",
       "6      2005  02:08:02"
      ]
     },
     "execution_count": 25,
     "metadata": {},
     "output_type": "execute_result"
    }
   ],
   "source": [
    "sub = df.loc[3:6,[\"year\",\"time\"]]\n",
    "sub.columns = [\"the year\",\"the time\"]\n",
    "sub"
   ]
  },
  {
   "cell_type": "markdown",
   "metadata": {},
   "source": [
    "### Exercise 1 : create an Excel File\n",
    "    \n",
    "Get the data [donnees_enquete_2003_television.txt](http://www.xavierdupre.fr/enseignement/complements/donnees_enquete_2003_television.txt) (source : [INSEE](http://www.insee.fr/fr/themes/detail.asp?ref_id=fd-hdv03&page=fichiers_detail/HDV03/telechargement.htm)).\n",
    "\n",
    "* ``POIDSLOG`` : Relative individual weighting\n",
    "* ``POIDSF`` : Individual weighting variable\n",
    "* ``cLT1FREQ`` : Average hours spent watching television \n",
    "* ``cLT2FREQ`` : Unit of time used to count the number of hours spent watching television, this unit is represented by the following four values\n",
    "    * 0 : not concerned\n",
    "    * 1 : day\n",
    "    * 2 : week\n",
    "    * 3 : month \n",
    "    \n",
    "Then, we want to:\n",
    "\n",
    "1. Delete empty columns\n",
    "2. Get the distinct values ​​for the column ``cLT2FREQ``\n",
    "3. Modify the matrix to remove rows for which the unit of time (cLT2FREQ) is not filled in or equal to zero.\n",
    "4. Save the result in Excel format.\n",
    "\n",
    "you may need :\n",
    "[DataFrame.isnull](http://pandas.pydata.org/pandas-docs/stable/generated/pandas.DataFrame.isnull.html) or [DataFrame.notnull](http://pandas.pydata.org/pandas-docs/stable/generated/pandas.DataFrame.notnull.html)"
   ]
  },
  {
   "cell_type": "code",
   "execution_count": 34,
   "metadata": {
    "collapsed": true
   },
   "outputs": [],
   "source": [
    "import pandas as pd\n",
    "# ..."
   ]
  },
  {
   "cell_type": "markdown",
   "metadata": {},
   "source": [
    "## DataFrame Manipulation\n",
    "\n",
    "If the * DataFrame * structure has established itself, it is because we always carry out the same operations.\n",
    "\n",
    "- **filter** : we select a subset of rows that checks a condition\n",
    "- **union** : concatenation of two datasets\n",
    "- **sort** : sort\n",
    "- **group by** : group rows that share a common value\n",
    "- **join** : merge two datasets by associating the rows that share a common value\n",
    "- **pivot** :use values in column as column names\n",
    "\n",
    "The first 5 operations come from the logic of data manipulation with language [SQL](https://en.wikipedia.org/wiki/SQL). The last corresponds to a  [Pivot table](https://en.wikipedia.org/wiki/Pivot_table). For illustration, we take the following [DataFrame](http://pandas.pydata.org/pandas-docs/stable/generated/pandas.DataFrame.html) :"
   ]
  },
  {
   "cell_type": "code",
   "execution_count": 3,
   "metadata": {},
   "outputs": [
    {
     "name": "stdout",
     "output_type": "stream",
     "text": [
      "Index(['city', 'year', 'time', 'seconds'], dtype='object')\n",
      "villes {'FUKUOKA', 'STOCKOLM', 'NEW YORK', 'BOSTON', 'PARIS', 'CHICAGO', 'AMSTERDAM', 'LONDON', 'BERLIN'}\n",
      "annee [1947, 1948, 1949, 1950, 1951, 1952, 1953, 1954, 1955, 1956] ...\n"
     ]
    }
   ],
   "source": [
    "import pandas as pd\n",
    "from ensae_teaching_cs.data import marathon\n",
    "filename = marathon()\n",
    "df = pd.read_csv(filename, sep=\"\\t\", names=[\"city\", \"year\", \"time\",\"seconds\"])\n",
    "print(df.columns)\n",
    "print(\"villes\",set(df.city))\n",
    "print(\"annee\",list(set(df.year))[:10],\"...\")"
   ]
  },
  {
   "cell_type": "markdown",
   "metadata": {},
   "source": [
    "### 6 operations : filter, union, sort, group by, join, pivot"
   ]
  },
  {
   "cell_type": "markdown",
   "metadata": {},
   "source": [
    "#### filter\n",
    "\n",
    "Filter consists of selecting a subset of rows from the dataframe. To filter on several conditions, logical operators must be used & (and), | (or), ~ (not) (see [Mapping Operators to Functions](https://docs.python.org/3.4/library/operator.html#mapping-operators-to-functions)).\n",
    "\n",
    "* [filter](http://pandas.pydata.org/pandas-docs/stable/generated/pandas.DataFrame.filter.html), [mask](http://pandas.pydata.org/pandas-docs/stable/generated/pandas.DataFrame.mask.html),[where](http://pandas.pydata.org/pandas-docs/stable/generated/pandas.DataFrame.where.html)\n",
    "* [pandas: filter rows of DataFrame with operator chaining](http://stackoverflow.com/questions/11869910/pandas-filter-rows-of-dataframe-with-operator-chaining)\n",
    "* [Indexing and Selecting Data](http://pandas.pydata.org/pandas-docs/stable/indexing.html)"
   ]
  },
  {
   "cell_type": "code",
   "execution_count": 43,
   "metadata": {},
   "outputs": [
    {
     "data": {
      "text/html": [
       "<div>\n",
       "<style scoped>\n",
       "    .dataframe tbody tr th:only-of-type {\n",
       "        vertical-align: middle;\n",
       "    }\n",
       "\n",
       "    .dataframe tbody tr th {\n",
       "        vertical-align: top;\n",
       "    }\n",
       "\n",
       "    .dataframe thead th {\n",
       "        text-align: right;\n",
       "    }\n",
       "</style>\n",
       "<table border=\"1\" class=\"dataframe\">\n",
       "  <thead>\n",
       "    <tr style=\"text-align: right;\">\n",
       "      <th></th>\n",
       "      <th>city</th>\n",
       "      <th>year</th>\n",
       "      <th>time</th>\n",
       "      <th>seconds</th>\n",
       "    </tr>\n",
       "  </thead>\n",
       "  <tbody>\n",
       "    <tr>\n",
       "      <td>112</td>\n",
       "      <td>FUKUOKA</td>\n",
       "      <td>1971</td>\n",
       "      <td>02:12:51</td>\n",
       "      <td>7971</td>\n",
       "    </tr>\n",
       "    <tr>\n",
       "      <td>204</td>\n",
       "      <td>NEW YORK</td>\n",
       "      <td>1971</td>\n",
       "      <td>02:22:54</td>\n",
       "      <td>8574</td>\n",
       "    </tr>\n",
       "    <tr>\n",
       "      <td>285</td>\n",
       "      <td>BOSTON</td>\n",
       "      <td>1971</td>\n",
       "      <td>02:18:45</td>\n",
       "      <td>8325</td>\n",
       "    </tr>\n",
       "  </tbody>\n",
       "</table>\n",
       "</div>"
      ],
      "text/plain": [
       "         city  year      time  seconds\n",
       "112   FUKUOKA  1971  02:12:51     7971\n",
       "204  NEW YORK  1971  02:22:54     8574\n",
       "285    BOSTON  1971  02:18:45     8325"
      ]
     },
     "execution_count": 43,
     "metadata": {},
     "output_type": "execute_result"
    }
   ],
   "source": [
    "subset = df [ df.year == 1971 ]\n",
    "subset.head()"
   ]
  },
  {
   "cell_type": "code",
   "execution_count": 45,
   "metadata": {},
   "outputs": [
    {
     "data": {
      "text/html": [
       "<div>\n",
       "<style scoped>\n",
       "    .dataframe tbody tr th:only-of-type {\n",
       "        vertical-align: middle;\n",
       "    }\n",
       "\n",
       "    .dataframe tbody tr th {\n",
       "        vertical-align: top;\n",
       "    }\n",
       "\n",
       "    .dataframe thead th {\n",
       "        text-align: right;\n",
       "    }\n",
       "</style>\n",
       "<table border=\"1\" class=\"dataframe\">\n",
       "  <thead>\n",
       "    <tr style=\"text-align: right;\">\n",
       "      <th></th>\n",
       "      <th>city</th>\n",
       "      <th>year</th>\n",
       "      <th>time</th>\n",
       "      <th>seconds</th>\n",
       "    </tr>\n",
       "  </thead>\n",
       "  <tbody>\n",
       "    <tr>\n",
       "      <td>285</td>\n",
       "      <td>BOSTON</td>\n",
       "      <td>1971</td>\n",
       "      <td>02:18:45</td>\n",
       "      <td>8325</td>\n",
       "    </tr>\n",
       "  </tbody>\n",
       "</table>\n",
       "</div>"
      ],
      "text/plain": [
       "       city  year      time  seconds\n",
       "285  BOSTON  1971  02:18:45     8325"
      ]
     },
     "execution_count": 45,
     "metadata": {},
     "output_type": "execute_result"
    }
   ],
   "source": [
    "subset = df [ (df.year == 1971) & (df.city == \"BOSTON\") ]\n",
    "subset.head()"
   ]
  },
  {
   "cell_type": "markdown",
   "metadata": {},
   "source": [
    "#### union\n",
    "\n",
    "union = concatenation of two [DataFrame](http://pandas.pydata.org/pandas-docs/stable/generated/pandas.DataFrame.html) (\n",
    "that do not necessarily have the same columns). We can concatenate the rows or the columns.\n",
    "\n",
    "* [concat](http://pandas.pydata.org/pandas-docs/stable/generated/pandas.concat.html)\n",
    "* [Merge, join, and concatenate](http://pandas.pydata.org/pandas-docs/stable/merging.html)"
   ]
  },
  {
   "cell_type": "code",
   "execution_count": 46,
   "metadata": {},
   "outputs": [
    {
     "data": {
      "text/plain": [
       "((359, 4), (718, 4))"
      ]
     },
     "execution_count": 46,
     "metadata": {},
     "output_type": "execute_result"
    }
   ],
   "source": [
    "concat_ligne = pd.concat((df,df))\n",
    "df.shape,concat_ligne.shape"
   ]
  },
  {
   "cell_type": "code",
   "execution_count": 47,
   "metadata": {},
   "outputs": [
    {
     "data": {
      "text/plain": [
       "((359, 4), (359, 8))"
      ]
     },
     "execution_count": 47,
     "metadata": {},
     "output_type": "execute_result"
    }
   ],
   "source": [
    "concat_col = pd.concat((df,df), axis=1)\n",
    "df.shape,concat_col.shape"
   ]
  },
  {
   "cell_type": "markdown",
   "metadata": {},
   "source": [
    "#### sort\n",
    "\n",
    "\n",
    "* [sort](http://pandas.pydata.org/pandas-docs/stable/generated/pandas.DataFrame.sort_values.html)"
   ]
  },
  {
   "cell_type": "code",
   "execution_count": 4,
   "metadata": {},
   "outputs": [
    {
     "data": {
      "text/html": [
       "<div>\n",
       "<style scoped>\n",
       "    .dataframe tbody tr th:only-of-type {\n",
       "        vertical-align: middle;\n",
       "    }\n",
       "\n",
       "    .dataframe tbody tr th {\n",
       "        vertical-align: top;\n",
       "    }\n",
       "\n",
       "    .dataframe thead th {\n",
       "        text-align: right;\n",
       "    }\n",
       "</style>\n",
       "<table border=\"1\" class=\"dataframe\">\n",
       "  <thead>\n",
       "    <tr style=\"text-align: right;\">\n",
       "      <th></th>\n",
       "      <th>city</th>\n",
       "      <th>year</th>\n",
       "      <th>time</th>\n",
       "      <th>seconds</th>\n",
       "    </tr>\n",
       "  </thead>\n",
       "  <tbody>\n",
       "    <tr>\n",
       "      <td>35</td>\n",
       "      <td>BERLIN</td>\n",
       "      <td>2011</td>\n",
       "      <td>02:03:38</td>\n",
       "      <td>7418</td>\n",
       "    </tr>\n",
       "    <tr>\n",
       "      <td>325</td>\n",
       "      <td>BOSTON</td>\n",
       "      <td>2011</td>\n",
       "      <td>02:03:02</td>\n",
       "      <td>7382</td>\n",
       "    </tr>\n",
       "    <tr>\n",
       "      <td>202</td>\n",
       "      <td>LONDON</td>\n",
       "      <td>2011</td>\n",
       "      <td>02:04:40</td>\n",
       "      <td>7480</td>\n",
       "    </tr>\n",
       "    <tr>\n",
       "      <td>0</td>\n",
       "      <td>PARIS</td>\n",
       "      <td>2011</td>\n",
       "      <td>02:06:29</td>\n",
       "      <td>7589</td>\n",
       "    </tr>\n",
       "    <tr>\n",
       "      <td>276</td>\n",
       "      <td>STOCKOLM</td>\n",
       "      <td>2011</td>\n",
       "      <td>02:14:07</td>\n",
       "      <td>8047</td>\n",
       "    </tr>\n",
       "  </tbody>\n",
       "</table>\n",
       "</div>"
      ],
      "text/plain": [
       "         city  year      time  seconds\n",
       "35     BERLIN  2011  02:03:38     7418\n",
       "325    BOSTON  2011  02:03:02     7382\n",
       "202    LONDON  2011  02:04:40     7480\n",
       "0       PARIS  2011  02:06:29     7589\n",
       "276  STOCKOLM  2011  02:14:07     8047"
      ]
     },
     "execution_count": 4,
     "metadata": {},
     "output_type": "execute_result"
    }
   ],
   "source": [
    "sorted_df = df.sort_values( [\"year\", \"city\"], ascending=[0,1])\n",
    "sorted_df.head()"
   ]
  },
  {
   "cell_type": "markdown",
   "metadata": {},
   "source": [
    "#### group by\n",
    "\n",
    "This operation consists of grouping rows that share a common feature (a value in one column or multiple values ​​in multiple columns). We can keep each group, or calculate a sum, an average, take the best value (top $ k $ per group) ...\n",
    "\n",
    "* [groupby](http://pandas.pydata.org/pandas-docs/stable/generated/pandas.DataFrame.groupby.html)\n",
    "* [sum](http://pandas.pydata.org/pandas-docs/stable/generated/pandas.DataFrame.sum.html), [cumsum](http://pandas.pydata.org/pandas-docs/stable/generated/pandas.DataFrame.cumsum.html), [mean](http://pandas.pydata.org/pandas-docs/stable/generated/pandas.DataFrame.mean.html), [count](http://pandas.pydata.org/pandas-docs/stable/generated/pandas.DataFrame.count.html)\n",
    "* [SQL GROUP BY](http://sql.sh/cours/group-by)\n",
    "* [Group By: split-apply-combine](http://pandas.pydata.org/pandas-docs/dev/groupby.html)\n",
    "* [group by customisé](http://stackoverflow.com/questions/15322632/python-pandas-df-groupby-agg-column-reference-in-agg)\n",
    "* [fast way to get index of top-k elements of every column in a pandas dataframe](http://stackoverflow.com/questions/32188867/fast-way-to-get-index-of-top-k-elements-of-every-column-in-a-pandas-dataframe)\n"
   ]
  },
  {
   "cell_type": "code",
   "execution_count": 65,
   "metadata": {},
   "outputs": [
    {
     "data": {
      "text/html": [
       "<div>\n",
       "<style scoped>\n",
       "    .dataframe tbody tr th:only-of-type {\n",
       "        vertical-align: middle;\n",
       "    }\n",
       "\n",
       "    .dataframe tbody tr th {\n",
       "        vertical-align: top;\n",
       "    }\n",
       "\n",
       "    .dataframe thead th {\n",
       "        text-align: right;\n",
       "    }\n",
       "</style>\n",
       "<table border=\"1\" class=\"dataframe\">\n",
       "  <thead>\n",
       "    <tr style=\"text-align: right;\">\n",
       "      <th></th>\n",
       "      <th>city</th>\n",
       "      <th>year</th>\n",
       "      <th>time</th>\n",
       "      <th>seconds</th>\n",
       "    </tr>\n",
       "  </thead>\n",
       "  <tbody>\n",
       "    <tr>\n",
       "      <td>0</td>\n",
       "      <td>PARIS</td>\n",
       "      <td>2011</td>\n",
       "      <td>02:06:29</td>\n",
       "      <td>7589</td>\n",
       "    </tr>\n",
       "    <tr>\n",
       "      <td>1</td>\n",
       "      <td>PARIS</td>\n",
       "      <td>2010</td>\n",
       "      <td>02:06:41</td>\n",
       "      <td>7601</td>\n",
       "    </tr>\n",
       "    <tr>\n",
       "      <td>2</td>\n",
       "      <td>PARIS</td>\n",
       "      <td>2009</td>\n",
       "      <td>02:05:47</td>\n",
       "      <td>7547</td>\n",
       "    </tr>\n",
       "    <tr>\n",
       "      <td>3</td>\n",
       "      <td>PARIS</td>\n",
       "      <td>2008</td>\n",
       "      <td>02:06:40</td>\n",
       "      <td>7600</td>\n",
       "    </tr>\n",
       "    <tr>\n",
       "      <td>4</td>\n",
       "      <td>PARIS</td>\n",
       "      <td>2007</td>\n",
       "      <td>02:07:17</td>\n",
       "      <td>7637</td>\n",
       "    </tr>\n",
       "    <tr>\n",
       "      <td>...</td>\n",
       "      <td>...</td>\n",
       "      <td>...</td>\n",
       "      <td>...</td>\n",
       "      <td>...</td>\n",
       "    </tr>\n",
       "    <tr>\n",
       "      <td>287</td>\n",
       "      <td>BOSTON</td>\n",
       "      <td>1973</td>\n",
       "      <td>02:16:03</td>\n",
       "      <td>8163</td>\n",
       "    </tr>\n",
       "    <tr>\n",
       "      <td>288</td>\n",
       "      <td>BOSTON</td>\n",
       "      <td>1974</td>\n",
       "      <td>02:13:39</td>\n",
       "      <td>8019</td>\n",
       "    </tr>\n",
       "    <tr>\n",
       "      <td>289</td>\n",
       "      <td>BOSTON</td>\n",
       "      <td>1975</td>\n",
       "      <td>02:09:55</td>\n",
       "      <td>7795</td>\n",
       "    </tr>\n",
       "    <tr>\n",
       "      <td>292</td>\n",
       "      <td>BOSTON</td>\n",
       "      <td>1978</td>\n",
       "      <td>02:10:13</td>\n",
       "      <td>7813</td>\n",
       "    </tr>\n",
       "    <tr>\n",
       "      <td>325</td>\n",
       "      <td>BOSTON</td>\n",
       "      <td>2011</td>\n",
       "      <td>02:03:02</td>\n",
       "      <td>7382</td>\n",
       "    </tr>\n",
       "  </tbody>\n",
       "</table>\n",
       "<p>231 rows × 4 columns</p>\n",
       "</div>"
      ],
      "text/plain": [
       "       city  year      time  seconds\n",
       "0     PARIS  2011  02:06:29     7589\n",
       "1     PARIS  2010  02:06:41     7601\n",
       "2     PARIS  2009  02:05:47     7547\n",
       "3     PARIS  2008  02:06:40     7600\n",
       "4     PARIS  2007  02:07:17     7637\n",
       "..      ...   ...       ...      ...\n",
       "287  BOSTON  1973  02:16:03     8163\n",
       "288  BOSTON  1974  02:13:39     8019\n",
       "289  BOSTON  1975  02:09:55     7795\n",
       "292  BOSTON  1978  02:10:13     7813\n",
       "325  BOSTON  2011  02:03:02     7382\n",
       "\n",
       "[231 rows x 4 columns]"
      ]
     },
     "execution_count": 65,
     "metadata": {},
     "output_type": "execute_result"
    }
   ],
   "source": [
    "gr = df.groupby(\"year\")\n",
    "gr.head()"
   ]
  },
  {
   "cell_type": "code",
   "execution_count": 53,
   "metadata": {},
   "outputs": [
    {
     "data": {
      "text/html": [
       "<div>\n",
       "<style scoped>\n",
       "    .dataframe tbody tr th:only-of-type {\n",
       "        vertical-align: middle;\n",
       "    }\n",
       "\n",
       "    .dataframe tbody tr th {\n",
       "        vertical-align: top;\n",
       "    }\n",
       "\n",
       "    .dataframe thead th {\n",
       "        text-align: right;\n",
       "    }\n",
       "</style>\n",
       "<table border=\"1\" class=\"dataframe\">\n",
       "  <thead>\n",
       "    <tr style=\"text-align: right;\">\n",
       "      <th></th>\n",
       "      <th>city</th>\n",
       "      <th>time</th>\n",
       "      <th>seconds</th>\n",
       "    </tr>\n",
       "    <tr>\n",
       "      <th>year</th>\n",
       "      <th></th>\n",
       "      <th></th>\n",
       "      <th></th>\n",
       "    </tr>\n",
       "  </thead>\n",
       "  <tbody>\n",
       "    <tr>\n",
       "      <td>2011</td>\n",
       "      <td>5</td>\n",
       "      <td>5</td>\n",
       "      <td>5</td>\n",
       "    </tr>\n",
       "    <tr>\n",
       "      <td>2010</td>\n",
       "      <td>9</td>\n",
       "      <td>9</td>\n",
       "      <td>9</td>\n",
       "    </tr>\n",
       "    <tr>\n",
       "      <td>2009</td>\n",
       "      <td>9</td>\n",
       "      <td>9</td>\n",
       "      <td>9</td>\n",
       "    </tr>\n",
       "    <tr>\n",
       "      <td>2008</td>\n",
       "      <td>9</td>\n",
       "      <td>9</td>\n",
       "      <td>9</td>\n",
       "    </tr>\n",
       "    <tr>\n",
       "      <td>2007</td>\n",
       "      <td>9</td>\n",
       "      <td>9</td>\n",
       "      <td>9</td>\n",
       "    </tr>\n",
       "  </tbody>\n",
       "</table>\n",
       "</div>"
      ],
      "text/plain": [
       "      city  time  seconds\n",
       "year                     \n",
       "2011     5     5        5\n",
       "2010     9     9        9\n",
       "2009     9     9        9\n",
       "2008     9     9        9\n",
       "2007     9     9        9"
      ]
     },
     "execution_count": 53,
     "metadata": {},
     "output_type": "execute_result"
    }
   ],
   "source": [
    "nb = gr.count()\n",
    "nb.sort_index(ascending=False).head() # because we grouped by year, the index becomes year as you see below"
   ]
  },
  {
   "cell_type": "markdown",
   "metadata": {},
   "source": [
    "basically gives the count of the cities, times and seconds in each \"year\" group (e.g. there were 5 marathons in 2011 in 5 cities,...)"
   ]
  },
  {
   "cell_type": "code",
   "execution_count": 55,
   "metadata": {},
   "outputs": [
    {
     "data": {
      "text/html": [
       "<div>\n",
       "<style scoped>\n",
       "    .dataframe tbody tr th:only-of-type {\n",
       "        vertical-align: middle;\n",
       "    }\n",
       "\n",
       "    .dataframe tbody tr th {\n",
       "        vertical-align: top;\n",
       "    }\n",
       "\n",
       "    .dataframe thead th {\n",
       "        text-align: right;\n",
       "    }\n",
       "</style>\n",
       "<table border=\"1\" class=\"dataframe\">\n",
       "  <thead>\n",
       "    <tr style=\"text-align: right;\">\n",
       "      <th></th>\n",
       "      <th>seconds</th>\n",
       "    </tr>\n",
       "    <tr>\n",
       "      <th>year</th>\n",
       "      <th></th>\n",
       "    </tr>\n",
       "  </thead>\n",
       "  <tbody>\n",
       "    <tr>\n",
       "      <td>2011</td>\n",
       "      <td>37916</td>\n",
       "    </tr>\n",
       "    <tr>\n",
       "      <td>2010</td>\n",
       "      <td>68673</td>\n",
       "    </tr>\n",
       "  </tbody>\n",
       "</table>\n",
       "</div>"
      ],
      "text/plain": [
       "      seconds\n",
       "year         \n",
       "2011    37916\n",
       "2010    68673"
      ]
     },
     "execution_count": 55,
     "metadata": {},
     "output_type": "execute_result"
    }
   ],
   "source": [
    "nb = gr.sum()\n",
    "nb.sort_index(ascending=False).head(n=2)"
   ]
  },
  {
   "cell_type": "markdown",
   "metadata": {},
   "source": [
    "basically, the total marathon time in seconds in 2010 was 68673 seconds"
   ]
  },
  {
   "cell_type": "code",
   "execution_count": 56,
   "metadata": {},
   "outputs": [
    {
     "data": {
      "text/html": [
       "<div>\n",
       "<style scoped>\n",
       "    .dataframe tbody tr th:only-of-type {\n",
       "        vertical-align: middle;\n",
       "    }\n",
       "\n",
       "    .dataframe tbody tr th {\n",
       "        vertical-align: top;\n",
       "    }\n",
       "\n",
       "    .dataframe thead th {\n",
       "        text-align: right;\n",
       "    }\n",
       "</style>\n",
       "<table border=\"1\" class=\"dataframe\">\n",
       "  <thead>\n",
       "    <tr style=\"text-align: right;\">\n",
       "      <th></th>\n",
       "      <th>seconds</th>\n",
       "    </tr>\n",
       "    <tr>\n",
       "      <th>year</th>\n",
       "      <th></th>\n",
       "    </tr>\n",
       "  </thead>\n",
       "  <tbody>\n",
       "    <tr>\n",
       "      <td>2011</td>\n",
       "      <td>7583.200000</td>\n",
       "    </tr>\n",
       "    <tr>\n",
       "      <td>2010</td>\n",
       "      <td>7630.333333</td>\n",
       "    </tr>\n",
       "    <tr>\n",
       "      <td>2009</td>\n",
       "      <td>7652.555556</td>\n",
       "    </tr>\n",
       "  </tbody>\n",
       "</table>\n",
       "</div>"
      ],
      "text/plain": [
       "          seconds\n",
       "year             \n",
       "2011  7583.200000\n",
       "2010  7630.333333\n",
       "2009  7652.555556"
      ]
     },
     "execution_count": 56,
     "metadata": {},
     "output_type": "execute_result"
    }
   ],
   "source": [
    "nb = gr.mean()\n",
    "nb.sort_index(ascending=False).head(n=3)"
   ]
  },
  {
   "cell_type": "markdown",
   "metadata": {},
   "source": [
    "We can extract the best two times per city :"
   ]
  },
  {
   "cell_type": "code",
   "execution_count": 67,
   "metadata": {},
   "outputs": [],
   "source": [
    "def best_2_times(row):\n",
    "    return row[\"seconds\"].nsmallest(2)\n",
    "\n",
    "series = df.groupby([\"city\"]).apply(best_2_times)"
   ]
  },
  {
   "cell_type": "code",
   "execution_count": 74,
   "metadata": {},
   "outputs": [
    {
     "data": {
      "text/plain": [
       "city          \n",
       "AMSTERDAM  171    7544\n",
       "           170    7578\n",
       "BERLIN     35     7418\n",
       "           38     7439\n",
       "BOSTON     325    7382\n",
       "           324    7552\n",
       "Name: seconds, dtype: int64"
      ]
     },
     "execution_count": 74,
     "metadata": {},
     "output_type": "execute_result"
    }
   ],
   "source": [
    "series.head(6)"
   ]
  },
  {
   "cell_type": "code",
   "execution_count": 69,
   "metadata": {},
   "outputs": [
    {
     "data": {
      "text/plain": [
       "[171,\n",
       " 170,\n",
       " 35,\n",
       " 38,\n",
       " 325,\n",
       " 324,\n",
       " 357,\n",
       " 347,\n",
       " 74,\n",
       " 75,\n",
       " 202,\n",
       " 200,\n",
       " 234,\n",
       " 222,\n",
       " 2,\n",
       " 0,\n",
       " 248,\n",
       " 251]"
      ]
     },
     "execution_count": 69,
     "metadata": {},
     "output_type": "execute_result"
    }
   ],
   "source": [
    "indices = [t[1] for t in series.index]\n",
    "indices"
   ]
  },
  {
   "cell_type": "code",
   "execution_count": 70,
   "metadata": {},
   "outputs": [
    {
     "data": {
      "text/html": [
       "<div>\n",
       "<style scoped>\n",
       "    .dataframe tbody tr th:only-of-type {\n",
       "        vertical-align: middle;\n",
       "    }\n",
       "\n",
       "    .dataframe tbody tr th {\n",
       "        vertical-align: top;\n",
       "    }\n",
       "\n",
       "    .dataframe thead th {\n",
       "        text-align: right;\n",
       "    }\n",
       "</style>\n",
       "<table border=\"1\" class=\"dataframe\">\n",
       "  <thead>\n",
       "    <tr style=\"text-align: right;\">\n",
       "      <th></th>\n",
       "      <th>city</th>\n",
       "      <th>year</th>\n",
       "      <th>time</th>\n",
       "      <th>seconds</th>\n",
       "    </tr>\n",
       "  </thead>\n",
       "  <tbody>\n",
       "    <tr>\n",
       "      <td>171</td>\n",
       "      <td>AMSTERDAM</td>\n",
       "      <td>2010</td>\n",
       "      <td>02:05:44</td>\n",
       "      <td>7544</td>\n",
       "    </tr>\n",
       "    <tr>\n",
       "      <td>170</td>\n",
       "      <td>AMSTERDAM</td>\n",
       "      <td>2009</td>\n",
       "      <td>02:06:18</td>\n",
       "      <td>7578</td>\n",
       "    </tr>\n",
       "    <tr>\n",
       "      <td>35</td>\n",
       "      <td>BERLIN</td>\n",
       "      <td>2011</td>\n",
       "      <td>02:03:38</td>\n",
       "      <td>7418</td>\n",
       "    </tr>\n",
       "    <tr>\n",
       "      <td>38</td>\n",
       "      <td>BERLIN</td>\n",
       "      <td>2008</td>\n",
       "      <td>02:03:59</td>\n",
       "      <td>7439</td>\n",
       "    </tr>\n",
       "    <tr>\n",
       "      <td>325</td>\n",
       "      <td>BOSTON</td>\n",
       "      <td>2011</td>\n",
       "      <td>02:03:02</td>\n",
       "      <td>7382</td>\n",
       "    </tr>\n",
       "    <tr>\n",
       "      <td>324</td>\n",
       "      <td>BOSTON</td>\n",
       "      <td>2010</td>\n",
       "      <td>02:05:52</td>\n",
       "      <td>7552</td>\n",
       "    </tr>\n",
       "    <tr>\n",
       "      <td>357</td>\n",
       "      <td>CHICAGO</td>\n",
       "      <td>2009</td>\n",
       "      <td>02:05:41</td>\n",
       "      <td>7541</td>\n",
       "    </tr>\n",
       "    <tr>\n",
       "      <td>347</td>\n",
       "      <td>CHICAGO</td>\n",
       "      <td>1999</td>\n",
       "      <td>02:05:42</td>\n",
       "      <td>7542</td>\n",
       "    </tr>\n",
       "    <tr>\n",
       "      <td>74</td>\n",
       "      <td>FUKUOKA</td>\n",
       "      <td>2009</td>\n",
       "      <td>02:05:18</td>\n",
       "      <td>7518</td>\n",
       "    </tr>\n",
       "    <tr>\n",
       "      <td>75</td>\n",
       "      <td>FUKUOKA</td>\n",
       "      <td>2008</td>\n",
       "      <td>02:06:10</td>\n",
       "      <td>7570</td>\n",
       "    </tr>\n",
       "    <tr>\n",
       "      <td>202</td>\n",
       "      <td>LONDON</td>\n",
       "      <td>2011</td>\n",
       "      <td>02:04:40</td>\n",
       "      <td>7480</td>\n",
       "    </tr>\n",
       "    <tr>\n",
       "      <td>200</td>\n",
       "      <td>LONDON</td>\n",
       "      <td>2009</td>\n",
       "      <td>02:05:10</td>\n",
       "      <td>7510</td>\n",
       "    </tr>\n",
       "    <tr>\n",
       "      <td>234</td>\n",
       "      <td>NEW YORK</td>\n",
       "      <td>2001</td>\n",
       "      <td>02:07:43</td>\n",
       "      <td>7663</td>\n",
       "    </tr>\n",
       "    <tr>\n",
       "      <td>222</td>\n",
       "      <td>NEW YORK</td>\n",
       "      <td>1989</td>\n",
       "      <td>02:08:01</td>\n",
       "      <td>7681</td>\n",
       "    </tr>\n",
       "    <tr>\n",
       "      <td>2</td>\n",
       "      <td>PARIS</td>\n",
       "      <td>2009</td>\n",
       "      <td>02:05:47</td>\n",
       "      <td>7547</td>\n",
       "    </tr>\n",
       "    <tr>\n",
       "      <td>0</td>\n",
       "      <td>PARIS</td>\n",
       "      <td>2011</td>\n",
       "      <td>02:06:29</td>\n",
       "      <td>7589</td>\n",
       "    </tr>\n",
       "    <tr>\n",
       "      <td>248</td>\n",
       "      <td>STOCKOLM</td>\n",
       "      <td>1983</td>\n",
       "      <td>02:11:37</td>\n",
       "      <td>7897</td>\n",
       "    </tr>\n",
       "    <tr>\n",
       "      <td>251</td>\n",
       "      <td>STOCKOLM</td>\n",
       "      <td>1986</td>\n",
       "      <td>02:12:33</td>\n",
       "      <td>7953</td>\n",
       "    </tr>\n",
       "  </tbody>\n",
       "</table>\n",
       "</div>"
      ],
      "text/plain": [
       "          city  year      time  seconds\n",
       "171  AMSTERDAM  2010  02:05:44     7544\n",
       "170  AMSTERDAM  2009  02:06:18     7578\n",
       "35      BERLIN  2011  02:03:38     7418\n",
       "38      BERLIN  2008  02:03:59     7439\n",
       "325     BOSTON  2011  02:03:02     7382\n",
       "324     BOSTON  2010  02:05:52     7552\n",
       "357    CHICAGO  2009  02:05:41     7541\n",
       "347    CHICAGO  1999  02:05:42     7542\n",
       "74     FUKUOKA  2009  02:05:18     7518\n",
       "75     FUKUOKA  2008  02:06:10     7570\n",
       "202     LONDON  2011  02:04:40     7480\n",
       "200     LONDON  2009  02:05:10     7510\n",
       "234   NEW YORK  2001  02:07:43     7663\n",
       "222   NEW YORK  1989  02:08:01     7681\n",
       "2        PARIS  2009  02:05:47     7547\n",
       "0        PARIS  2011  02:06:29     7589\n",
       "248   STOCKOLM  1983  02:11:37     7897\n",
       "251   STOCKOLM  1986  02:12:33     7953"
      ]
     },
     "execution_count": 70,
     "metadata": {},
     "output_type": "execute_result"
    }
   ],
   "source": [
    "df.loc[indices]"
   ]
  },
  {
   "cell_type": "markdown",
   "metadata": {},
   "source": [
    "#### join (_merge_ )\n",
    "\n",
    "To merge two tables is to match the rows of the first table with those of the second if some columns of these rows share the same values. There are four cases :\n",
    "\n",
    "* ``INNER JOIN`` - **inner** : we keep all successful matches\n",
    "* ``LEFT OUTER JOIN`` - **left** : we keep all successful matches as well as unmatched rows of the left table\n",
    "* ``RIGHT OUTER JOIN`` - **right** : we keep all successful matches as well as unmatched rows of the right table\n",
    "* ``FULL OUTER JOIN`` - **outer** : we keep all successful matches and unmatched rows of both tables\n",
    "\n",
    "Exemples and documentation :\n",
    "* [merging, joining](http://pandas.pydata.org/pandas-docs/stable/merging.html#database-style-dataframe-joining-merging)\n",
    "* [join](http://pandas.pydata.org/pandas-docs/stable/pandas.DataFrame.join.html)\n",
    "* [merge](http://pandas.pydata.org/pandas-docs/stable/pandas.merge.html) ou [DataFrame.merge](http://pandas.pydata.org/pandas-docs/stable/generated/pandas.DataFrame.merge.html)\n",
    "\n",
    "If the names of the columns used during the merge are not mentioned, implicitly, the index will be chosen. For large tables (> 1.000.000 rows), it is strongly recommended to add an index if it does not exist before merging. ** What are the following four cases? (LEFT ou FULL ou RIGHT ou INNER) ?**"
   ]
  },
  {
   "cell_type": "code",
   "execution_count": 51,
   "metadata": {},
   "outputs": [
    {
     "data": {
      "image/png": "[encoded data removed]",
      "text/plain": [
       "<IPython.core.display.Image object>"
      ]
     },
     "execution_count": 52,
     "metadata": {},
     "output_type": "execute_result"
    }
   ],
   "source": [
    "from IPython.display import Image\n",
    "Image(\"patates.png\")"
   ]
  },
  {
   "cell_type": "markdown",
   "metadata": {},
   "source": [
    "We want to add a country column to the marathons taking place in the following cities."
   ]
  },
  {
   "cell_type": "code",
   "execution_count": 75,
   "metadata": {},
   "outputs": [
    {
     "data": {
      "text/html": [
       "<div>\n",
       "<style scoped>\n",
       "    .dataframe tbody tr th:only-of-type {\n",
       "        vertical-align: middle;\n",
       "    }\n",
       "\n",
       "    .dataframe tbody tr th {\n",
       "        vertical-align: top;\n",
       "    }\n",
       "\n",
       "    .dataframe thead th {\n",
       "        text-align: right;\n",
       "    }\n",
       "</style>\n",
       "<table border=\"1\" class=\"dataframe\">\n",
       "  <thead>\n",
       "    <tr style=\"text-align: right;\">\n",
       "      <th></th>\n",
       "      <th>Ci</th>\n",
       "      <th>Cou</th>\n",
       "    </tr>\n",
       "  </thead>\n",
       "  <tbody>\n",
       "    <tr>\n",
       "      <td>0</td>\n",
       "      <td>BOSTON</td>\n",
       "      <td>USA</td>\n",
       "    </tr>\n",
       "    <tr>\n",
       "      <td>1</td>\n",
       "      <td>NEW YORK</td>\n",
       "      <td>USA</td>\n",
       "    </tr>\n",
       "    <tr>\n",
       "      <td>2</td>\n",
       "      <td>BERLIN</td>\n",
       "      <td>Germany</td>\n",
       "    </tr>\n",
       "    <tr>\n",
       "      <td>3</td>\n",
       "      <td>LONDON</td>\n",
       "      <td>UK</td>\n",
       "    </tr>\n",
       "    <tr>\n",
       "      <td>4</td>\n",
       "      <td>PARIS</td>\n",
       "      <td>France</td>\n",
       "    </tr>\n",
       "  </tbody>\n",
       "</table>\n",
       "</div>"
      ],
      "text/plain": [
       "         Ci      Cou\n",
       "0    BOSTON      USA\n",
       "1  NEW YORK      USA\n",
       "2    BERLIN  Germany\n",
       "3    LONDON       UK\n",
       "4     PARIS   France"
      ]
     },
     "execution_count": 75,
     "metadata": {},
     "output_type": "execute_result"
    }
   ],
   "source": [
    "values = [  {\"Ci\":'BOSTON', \"Cou\":\"USA\"}, \n",
    "            {\"Ci\":'NEW YORK', \"Cou\":\"USA\"}, \n",
    "            {\"Ci\":'BERLIN', \"Cou\":\"Germany\"}, \n",
    "            {\"Ci\":'LONDON', \"Cou\":\"UK\"}, \n",
    "            {\"Ci\":'PARIS', \"Cou\":\"France\"}]\n",
    "countries = pd.DataFrame(values)\n",
    "countries"
   ]
  },
  {
   "cell_type": "code",
   "execution_count": 77,
   "metadata": {},
   "outputs": [
    {
     "data": {
      "text/html": [
       "<div>\n",
       "<style scoped>\n",
       "    .dataframe tbody tr th:only-of-type {\n",
       "        vertical-align: middle;\n",
       "    }\n",
       "\n",
       "    .dataframe tbody tr th {\n",
       "        vertical-align: top;\n",
       "    }\n",
       "\n",
       "    .dataframe thead th {\n",
       "        text-align: right;\n",
       "    }\n",
       "</style>\n",
       "<table border=\"1\" class=\"dataframe\">\n",
       "  <thead>\n",
       "    <tr style=\"text-align: right;\">\n",
       "      <th></th>\n",
       "      <th>city</th>\n",
       "      <th>year</th>\n",
       "      <th>time</th>\n",
       "      <th>seconds</th>\n",
       "      <th>Ci</th>\n",
       "      <th>Cou</th>\n",
       "    </tr>\n",
       "  </thead>\n",
       "  <tbody>\n",
       "    <tr>\n",
       "      <td>0</td>\n",
       "      <td>PARIS</td>\n",
       "      <td>2011</td>\n",
       "      <td>02:06:29</td>\n",
       "      <td>7589</td>\n",
       "      <td>PARIS</td>\n",
       "      <td>France</td>\n",
       "    </tr>\n",
       "    <tr>\n",
       "      <td>1</td>\n",
       "      <td>PARIS</td>\n",
       "      <td>2010</td>\n",
       "      <td>02:06:41</td>\n",
       "      <td>7601</td>\n",
       "      <td>PARIS</td>\n",
       "      <td>France</td>\n",
       "    </tr>\n",
       "    <tr>\n",
       "      <td>192</td>\n",
       "      <td>BOSTON</td>\n",
       "      <td>2010</td>\n",
       "      <td>02:05:52</td>\n",
       "      <td>7552</td>\n",
       "      <td>BOSTON</td>\n",
       "      <td>USA</td>\n",
       "    </tr>\n",
       "    <tr>\n",
       "      <td>193</td>\n",
       "      <td>BOSTON</td>\n",
       "      <td>2011</td>\n",
       "      <td>02:03:02</td>\n",
       "      <td>7382</td>\n",
       "      <td>BOSTON</td>\n",
       "      <td>USA</td>\n",
       "    </tr>\n",
       "  </tbody>\n",
       "</table>\n",
       "</div>"
      ],
      "text/plain": [
       "       city  year      time  seconds      Ci     Cou\n",
       "0     PARIS  2011  02:06:29     7589   PARIS  France\n",
       "1     PARIS  2010  02:06:41     7601   PARIS  France\n",
       "192  BOSTON  2010  02:05:52     7552  BOSTON     USA\n",
       "193  BOSTON  2011  02:03:02     7382  BOSTON     USA"
      ]
     },
     "execution_count": 77,
     "metadata": {},
     "output_type": "execute_result"
    }
   ],
   "source": [
    "dfwithcountries = df.merge(countries, left_on=\"city\", right_on=\"Ci\")\n",
    "pd.concat([dfwithcountries.head(n=2),dfwithcountries.tail(n=2)])"
   ]
  },
  {
   "cell_type": "markdown",
   "metadata": {},
   "source": [
    "#### pivot (pivot table)\n",
    "\n",
    "This operation creates a second table by using the values ​​of a column as the name of the columns. \n",
    "\n",
    "| A | B | C |\n",
    "| --- | --- | --- |\n",
    "| A1 | B1 | C1 |\n",
    "| A1 | B2 | C2 |\n",
    "| A2 | B1 | C3 |\n",
    "| A2 | B2 | C4 |\n",
    "| A2 | B3 | C5 |\n",
    "\n",
    "The operation ``pivot(A,B,C)`` gives :\n",
    "\n",
    "| A | B1 | B2 | B3 |\n",
    "| --- | --- | --- | --- |\n",
    "| A1 | C1 | C2 |  |\n",
    "| A2 | C3 | C4 | C5 |\n",
    "\n",
    "* [pivot](http://pandas.pydata.org/pandas-docs/stable/generated/pandas.DataFrame.pivot.html), [pivot_table](http://pandas.pydata.org/pandas-docs/stable/generated/pandas.tools.pivot.pivot_table.html)\n",
    "* [Reshaping and Pivot Tables](http://pandas.pydata.org/pandas-docs/stable/reshaping.html)\n",
    "* [Tableau croisé dynamique - wikipédia](http://fr.wikipedia.org/wiki/Tableau_crois%C3%A9_dynamique)\n",
    "\n",
    "This is applied to marathons where one wants to have cities as column names and one year per line."
   ]
  },
  {
   "cell_type": "code",
   "execution_count": 78,
   "metadata": {},
   "outputs": [
    {
     "data": {
      "text/html": [
       "<div>\n",
       "<style scoped>\n",
       "    .dataframe tbody tr th:only-of-type {\n",
       "        vertical-align: middle;\n",
       "    }\n",
       "\n",
       "    .dataframe tbody tr th {\n",
       "        vertical-align: top;\n",
       "    }\n",
       "\n",
       "    .dataframe thead th {\n",
       "        text-align: right;\n",
       "    }\n",
       "</style>\n",
       "<table border=\"1\" class=\"dataframe\">\n",
       "  <thead>\n",
       "    <tr style=\"text-align: right;\">\n",
       "      <th>city</th>\n",
       "      <th>AMSTERDAM</th>\n",
       "      <th>BERLIN</th>\n",
       "      <th>BOSTON</th>\n",
       "      <th>CHICAGO</th>\n",
       "      <th>FUKUOKA</th>\n",
       "      <th>LONDON</th>\n",
       "      <th>NEW YORK</th>\n",
       "      <th>PARIS</th>\n",
       "      <th>STOCKOLM</th>\n",
       "    </tr>\n",
       "    <tr>\n",
       "      <th>year</th>\n",
       "      <th></th>\n",
       "      <th></th>\n",
       "      <th></th>\n",
       "      <th></th>\n",
       "      <th></th>\n",
       "      <th></th>\n",
       "      <th></th>\n",
       "      <th></th>\n",
       "      <th></th>\n",
       "    </tr>\n",
       "  </thead>\n",
       "  <tbody>\n",
       "    <tr>\n",
       "      <td>1967</td>\n",
       "      <td>NaN</td>\n",
       "      <td>NaN</td>\n",
       "      <td>02:15:45</td>\n",
       "      <td>NaN</td>\n",
       "      <td>02:09:37</td>\n",
       "      <td>NaN</td>\n",
       "      <td>NaN</td>\n",
       "      <td>NaN</td>\n",
       "      <td>NaN</td>\n",
       "    </tr>\n",
       "    <tr>\n",
       "      <td>1968</td>\n",
       "      <td>NaN</td>\n",
       "      <td>NaN</td>\n",
       "      <td>02:22:17</td>\n",
       "      <td>NaN</td>\n",
       "      <td>02:10:48</td>\n",
       "      <td>NaN</td>\n",
       "      <td>NaN</td>\n",
       "      <td>NaN</td>\n",
       "      <td>NaN</td>\n",
       "    </tr>\n",
       "    <tr>\n",
       "      <td>1969</td>\n",
       "      <td>NaN</td>\n",
       "      <td>NaN</td>\n",
       "      <td>02:13:49</td>\n",
       "      <td>NaN</td>\n",
       "      <td>02:11:13</td>\n",
       "      <td>NaN</td>\n",
       "      <td>NaN</td>\n",
       "      <td>NaN</td>\n",
       "      <td>NaN</td>\n",
       "    </tr>\n",
       "    <tr>\n",
       "      <td>1987</td>\n",
       "      <td>02:12:40</td>\n",
       "      <td>02:11:11</td>\n",
       "      <td>02:11:50</td>\n",
       "      <td>NaN</td>\n",
       "      <td>02:08:18</td>\n",
       "      <td>02:09:50</td>\n",
       "      <td>02:11:01</td>\n",
       "      <td>02:11:09</td>\n",
       "      <td>02:13:52</td>\n",
       "    </tr>\n",
       "    <tr>\n",
       "      <td>1988</td>\n",
       "      <td>02:12:38</td>\n",
       "      <td>02:11:45</td>\n",
       "      <td>02:08:43</td>\n",
       "      <td>02:08:57</td>\n",
       "      <td>02:11:04</td>\n",
       "      <td>02:10:20</td>\n",
       "      <td>02:08:20</td>\n",
       "      <td>02:13:53</td>\n",
       "      <td>02:14:26</td>\n",
       "    </tr>\n",
       "    <tr>\n",
       "      <td>1989</td>\n",
       "      <td>02:13:52</td>\n",
       "      <td>02:10:11</td>\n",
       "      <td>02:09:06</td>\n",
       "      <td>02:11:25</td>\n",
       "      <td>02:12:54</td>\n",
       "      <td>02:09:03</td>\n",
       "      <td>02:08:01</td>\n",
       "      <td>02:13:03</td>\n",
       "      <td>02:13:34</td>\n",
       "    </tr>\n",
       "    <tr>\n",
       "      <td>2009</td>\n",
       "      <td>02:06:18</td>\n",
       "      <td>02:06:08</td>\n",
       "      <td>02:08:42</td>\n",
       "      <td>02:05:41</td>\n",
       "      <td>02:05:18</td>\n",
       "      <td>02:05:10</td>\n",
       "      <td>02:09:15</td>\n",
       "      <td>02:05:47</td>\n",
       "      <td>02:15:34</td>\n",
       "    </tr>\n",
       "    <tr>\n",
       "      <td>2010</td>\n",
       "      <td>02:05:44</td>\n",
       "      <td>02:05:08</td>\n",
       "      <td>02:05:52</td>\n",
       "      <td>02:06:23</td>\n",
       "      <td>02:08:24</td>\n",
       "      <td>02:05:19</td>\n",
       "      <td>02:08:14</td>\n",
       "      <td>02:06:41</td>\n",
       "      <td>02:12:48</td>\n",
       "    </tr>\n",
       "    <tr>\n",
       "      <td>2011</td>\n",
       "      <td>NaN</td>\n",
       "      <td>02:03:38</td>\n",
       "      <td>02:03:02</td>\n",
       "      <td>NaN</td>\n",
       "      <td>NaN</td>\n",
       "      <td>02:04:40</td>\n",
       "      <td>NaN</td>\n",
       "      <td>02:06:29</td>\n",
       "      <td>02:14:07</td>\n",
       "    </tr>\n",
       "  </tbody>\n",
       "</table>\n",
       "</div>"
      ],
      "text/plain": [
       "city AMSTERDAM    BERLIN    BOSTON   CHICAGO   FUKUOKA    LONDON  NEW YORK  \\\n",
       "year                                                                         \n",
       "1967       NaN       NaN  02:15:45       NaN  02:09:37       NaN       NaN   \n",
       "1968       NaN       NaN  02:22:17       NaN  02:10:48       NaN       NaN   \n",
       "1969       NaN       NaN  02:13:49       NaN  02:11:13       NaN       NaN   \n",
       "1987  02:12:40  02:11:11  02:11:50       NaN  02:08:18  02:09:50  02:11:01   \n",
       "1988  02:12:38  02:11:45  02:08:43  02:08:57  02:11:04  02:10:20  02:08:20   \n",
       "1989  02:13:52  02:10:11  02:09:06  02:11:25  02:12:54  02:09:03  02:08:01   \n",
       "2009  02:06:18  02:06:08  02:08:42  02:05:41  02:05:18  02:05:10  02:09:15   \n",
       "2010  02:05:44  02:05:08  02:05:52  02:06:23  02:08:24  02:05:19  02:08:14   \n",
       "2011       NaN  02:03:38  02:03:02       NaN       NaN  02:04:40       NaN   \n",
       "\n",
       "city     PARIS  STOCKOLM  \n",
       "year                      \n",
       "1967       NaN       NaN  \n",
       "1968       NaN       NaN  \n",
       "1969       NaN       NaN  \n",
       "1987  02:11:09  02:13:52  \n",
       "1988  02:13:53  02:14:26  \n",
       "1989  02:13:03  02:13:34  \n",
       "2009  02:05:47  02:15:34  \n",
       "2010  02:06:41  02:12:48  \n",
       "2011  02:06:29  02:14:07  "
      ]
     },
     "execution_count": 78,
     "metadata": {},
     "output_type": "execute_result"
    }
   ],
   "source": [
    "piv = df.pivot(\"year\",\"city\",\"time\")\n",
    "pandas.concat([piv[20:23],piv[40:43],piv.tail(n=3)])"
   ]
  },
  {
   "cell_type": "markdown",
   "metadata": {},
   "source": [
    "### Exercices 2 : averages by groups\n",
    "    \n",
    "With the same dataset ([marathon.txt](http://www.xavierdupre.fr/enseignement/complements/marathon.txt)), we want to add a line at the end of the pivot table containing the average in seconds of the marathon time for each city.  \n",
    "\n",
    "The solution requires 3 steps\n",
    "\n",
    "1. To have the average by cities, it is necessary to group the rows associated with the same cities.\n",
    "2. Then, we must introduce these averages in the initial table: we merge.\n",
    "3. We make the same pivot as in the statement.\n"
   ]
  },
  {
   "cell_type": "code",
   "execution_count": 79,
   "metadata": {},
   "outputs": [],
   "source": [
    "# step 1\n",
    "# By default, the groupby method uses the group key as index\n",
    "# for not doing it, you have to specify as_index = False\n",
    "gr = df[[\"city\",\"seconds\"]].groupby(??, as_index=False).mean()\n",
    "gr.head()"
   ]
  },
  {
   "cell_type": "code",
   "execution_count": 80,
   "metadata": {},
   "outputs": [],
   "source": [
    "# step 2 - we add a column\n",
    "full = df.merge( gr, on=??)\n",
    "full.head()"
   ]
  },
  {
   "cell_type": "code",
   "execution_count": null,
   "metadata": {},
   "outputs": [],
   "source": [
    "# step 3\n",
    "piv = full.pivot(??,??,??)\n",
    "piv.tail()"
   ]
  },
  {
   "cell_type": "markdown",
   "metadata": {},
   "source": [
    "## Plot(s)"
   ]
  },
  {
   "cell_type": "markdown",
   "metadata": {},
   "source": [
    "### Get the data\n",
    "\n",
    "We retrieve the data available on the website : [Naissance, décès, mariages 2012](http://www.insee.fr/fr/themes/detail.asp?ref_id=fd-etatcivil2012&page=fichiers_detail/etatcivil2012/doc/documentation.htm). \n",
    "This is to retrieve the list of marriages of the year 2012. We want to represent the graph of the number of marriages according to the gap between the married."
   ]
  },
  {
   "cell_type": "code",
   "execution_count": 81,
   "metadata": {},
   "outputs": [
    {
     "name": "stdout",
     "output_type": "stream",
     "text": [
      "Download of etatcivil2012_mar2012_dbase.zip: DONE!\n",
      "Download of etatcivil2012_nais2012_dbase.zip: DONE!\n",
      "Download of etatcivil2012_dec2012_dbase.zip: DONE!\n"
     ]
    }
   ],
   "source": [
    "import urllib.request\n",
    "import zipfile\n",
    "import http.client\n",
    "\n",
    "def download_and_save(name, root_url):\n",
    "    try:\n",
    "        response = urllib.request.urlopen(root_url+name)\n",
    "    except (TimeoutError, urllib.request.URLError, http.client.BadStatusLine):\n",
    "        # back up plan\n",
    "        root_url = \"http://www.xavierdupre.fr/enseignement/complements/\"\n",
    "        response = urllib.request.urlopen(root_url+name)\n",
    "    with open(name, \"wb\") as outfile:\n",
    "        outfile.write(response.read())\n",
    "\n",
    "def unzip(name):\n",
    "    with zipfile.ZipFile(name, \"r\") as z:\n",
    "        z.extractall(\".\")\n",
    "\n",
    "filenames = [\"etatcivil2012_mar2012_dbase.zip\", \n",
    "             \"etatcivil2012_nais2012_dbase.zip\",\n",
    "             \"etatcivil2012_dec2012_dbase.zip\", ]\n",
    "root_url = 'http://telechargement.insee.fr/fichiersdetail/etatcivil2012/dbase/'\n",
    "\n",
    "for filename in filenames:\n",
    "    download_and_save(filename, root_url)\n",
    "    unzip(filename)\n",
    "    print(\"Download of {}: DONE!\".format(filename))"
   ]
  },
  {
   "cell_type": "markdown",
   "metadata": {},
   "source": [
    "The following example might not work if the module [dbfread](https://github.com/olemb/dbfread/) is not installed. If this is the case, the program will use a version of the data after using this module."
   ]
  },
  {
   "cell_type": "code",
   "execution_count": 120,
   "metadata": {},
   "outputs": [
    {
     "name": "stdout",
     "output_type": "stream",
     "text": [
      "use of dbfread\n"
     ]
    }
   ],
   "source": [
    "import pandas\n",
    "try:\n",
    "    from dbfread import DBF\n",
    "    use_dbfread = True\n",
    "except ImportError as e :\n",
    "    use_dbfread = False\n",
    "    \n",
    "if use_dbfread:\n",
    "    print(\"use of dbfread\")\n",
    "    def dBase2df(dbase_filename):\n",
    "        table = DBF(dbase_filename, load=True, encoding=\"cp437\")\n",
    "        return pandas.DataFrame(table.records)\n",
    "\n",
    "    df = dBase2df('mar2012.dbf')\n",
    "    #df.to_csv(\"mar2012.txt\", sep=\"\\t\", encoding=\"utf8\", index=False)\n",
    "else :\n",
    "    print(\"use of zipped version\")\n",
    "    import pyensae\n",
    "    data = pyensae.download_data(\"mar2012.zip\")\n",
    "    df = pandas.read_csv(data[0], sep=\"\\t\", encoding=\"utf8\", low_memory = False)    \n",
    "    \n",
    "df.shape, df.columns"
   ]
  },
  {
   "cell_type": "markdown",
   "metadata": {},
   "source": [
    "We recover in the same way the meaning of the variables:"
   ]
  },
  {
   "cell_type": "code",
   "execution_count": 83,
   "metadata": {},
   "outputs": [
    {
     "name": "stdout",
     "output_type": "stream",
     "text": [
      "(16, 4) Index(['VARIABLE', 'LIBELLE', 'TYPE', 'LONGUEUR'], dtype='object')\n"
     ]
    },
    {
     "data": {
      "text/html": [
       "<div>\n",
       "<style scoped>\n",
       "    .dataframe tbody tr th:only-of-type {\n",
       "        vertical-align: middle;\n",
       "    }\n",
       "\n",
       "    .dataframe tbody tr th {\n",
       "        vertical-align: top;\n",
       "    }\n",
       "\n",
       "    .dataframe thead th {\n",
       "        text-align: right;\n",
       "    }\n",
       "</style>\n",
       "<table border=\"1\" class=\"dataframe\">\n",
       "  <thead>\n",
       "    <tr style=\"text-align: right;\">\n",
       "      <th></th>\n",
       "      <th>VARIABLE</th>\n",
       "      <th>LIBELLE</th>\n",
       "      <th>TYPE</th>\n",
       "      <th>LONGUEUR</th>\n",
       "    </tr>\n",
       "  </thead>\n",
       "  <tbody>\n",
       "    <tr>\n",
       "      <td>0</td>\n",
       "      <td>AMAR</td>\n",
       "      <td>Année du mariage</td>\n",
       "      <td>CHAR</td>\n",
       "      <td>4</td>\n",
       "    </tr>\n",
       "    <tr>\n",
       "      <td>1</td>\n",
       "      <td>ANAISF</td>\n",
       "      <td>Année de naissance de l'épouse</td>\n",
       "      <td>CHAR</td>\n",
       "      <td>4</td>\n",
       "    </tr>\n",
       "    <tr>\n",
       "      <td>2</td>\n",
       "      <td>ANAISH</td>\n",
       "      <td>Année de naissance de l'époux</td>\n",
       "      <td>CHAR</td>\n",
       "      <td>4</td>\n",
       "    </tr>\n",
       "    <tr>\n",
       "      <td>3</td>\n",
       "      <td>DEPDOM</td>\n",
       "      <td>Département de domicile après le mariage</td>\n",
       "      <td>CHAR</td>\n",
       "      <td>3</td>\n",
       "    </tr>\n",
       "    <tr>\n",
       "      <td>4</td>\n",
       "      <td>DEPMAR</td>\n",
       "      <td>Département de mariage</td>\n",
       "      <td>CHAR</td>\n",
       "      <td>3</td>\n",
       "    </tr>\n",
       "    <tr>\n",
       "      <td>5</td>\n",
       "      <td>DEPNAISF</td>\n",
       "      <td>Département de naissance de l'épouse</td>\n",
       "      <td>CHAR</td>\n",
       "      <td>3</td>\n",
       "    </tr>\n",
       "    <tr>\n",
       "      <td>6</td>\n",
       "      <td>DEPNAISH</td>\n",
       "      <td>Département de naissance de l'époux</td>\n",
       "      <td>CHAR</td>\n",
       "      <td>3</td>\n",
       "    </tr>\n",
       "    <tr>\n",
       "      <td>7</td>\n",
       "      <td>ETAMATF</td>\n",
       "      <td>État matrimonial antérieur de l'épouse</td>\n",
       "      <td>CHAR</td>\n",
       "      <td>1</td>\n",
       "    </tr>\n",
       "    <tr>\n",
       "      <td>8</td>\n",
       "      <td>ETAMATH</td>\n",
       "      <td>État matrimonial antérieur de l'époux</td>\n",
       "      <td>CHAR</td>\n",
       "      <td>1</td>\n",
       "    </tr>\n",
       "    <tr>\n",
       "      <td>9</td>\n",
       "      <td>INDNATF</td>\n",
       "      <td>Indicateur de nationalité de l'épouse</td>\n",
       "      <td>CHAR</td>\n",
       "      <td>1</td>\n",
       "    </tr>\n",
       "    <tr>\n",
       "      <td>10</td>\n",
       "      <td>INDNATH</td>\n",
       "      <td>Indicateur de nationalité de l'époux</td>\n",
       "      <td>CHAR</td>\n",
       "      <td>1</td>\n",
       "    </tr>\n",
       "    <tr>\n",
       "      <td>11</td>\n",
       "      <td>JSEMAINE</td>\n",
       "      <td>Jour du mariage dans la semaine</td>\n",
       "      <td>CHAR</td>\n",
       "      <td>1</td>\n",
       "    </tr>\n",
       "    <tr>\n",
       "      <td>12</td>\n",
       "      <td>MMAR</td>\n",
       "      <td>Mois du mariage</td>\n",
       "      <td>CHAR</td>\n",
       "      <td>2</td>\n",
       "    </tr>\n",
       "    <tr>\n",
       "      <td>13</td>\n",
       "      <td>NBENFCOM</td>\n",
       "      <td>Enfants en commun avant le mariage</td>\n",
       "      <td>CHAR</td>\n",
       "      <td>1</td>\n",
       "    </tr>\n",
       "    <tr>\n",
       "      <td>14</td>\n",
       "      <td>TUCOM</td>\n",
       "      <td>Tranche de commune du lieu de domicile des époux</td>\n",
       "      <td>CHAR</td>\n",
       "      <td>1</td>\n",
       "    </tr>\n",
       "    <tr>\n",
       "      <td>15</td>\n",
       "      <td>TUDOM</td>\n",
       "      <td>Tranche d'unité urbaine du lieu de domicile de...</td>\n",
       "      <td>CHAR</td>\n",
       "      <td>1</td>\n",
       "    </tr>\n",
       "  </tbody>\n",
       "</table>\n",
       "</div>"
      ],
      "text/plain": [
       "    VARIABLE                                            LIBELLE  TYPE  \\\n",
       "0       AMAR                                   Année du mariage  CHAR   \n",
       "1     ANAISF                     Année de naissance de l'épouse  CHAR   \n",
       "2     ANAISH                      Année de naissance de l'époux  CHAR   \n",
       "3    DEPDOM            Département de domicile après le mariage  CHAR   \n",
       "4     DEPMAR                             Département de mariage  CHAR   \n",
       "5   DEPNAISF               Département de naissance de l'épouse  CHAR   \n",
       "6   DEPNAISH                Département de naissance de l'époux  CHAR   \n",
       "7    ETAMATF             État matrimonial antérieur de l'épouse  CHAR   \n",
       "8    ETAMATH              État matrimonial antérieur de l'époux  CHAR   \n",
       "9    INDNATF              Indicateur de nationalité de l'épouse  CHAR   \n",
       "10   INDNATH               Indicateur de nationalité de l'époux  CHAR   \n",
       "11  JSEMAINE                    Jour du mariage dans la semaine  CHAR   \n",
       "12      MMAR                                    Mois du mariage  CHAR   \n",
       "13  NBENFCOM                 Enfants en commun avant le mariage  CHAR   \n",
       "14     TUCOM   Tranche de commune du lieu de domicile des époux  CHAR   \n",
       "15     TUDOM  Tranche d'unité urbaine du lieu de domicile de...  CHAR   \n",
       "\n",
       "    LONGUEUR  \n",
       "0          4  \n",
       "1          4  \n",
       "2          4  \n",
       "3          3  \n",
       "4          3  \n",
       "5          3  \n",
       "6          3  \n",
       "7          1  \n",
       "8          1  \n",
       "9          1  \n",
       "10         1  \n",
       "11         1  \n",
       "12         2  \n",
       "13         1  \n",
       "14         1  \n",
       "15         1  "
      ]
     },
     "execution_count": 83,
     "metadata": {},
     "output_type": "execute_result"
    }
   ],
   "source": [
    "vardf = dBase2df(\"varlist_mariages.dbf\")\n",
    "print(vardf.shape, vardf.columns)\n",
    "vardf"
   ]
  },
  {
   "cell_type": "markdown",
   "metadata": {},
   "source": [
    "I know it's in french so the variables you will need are:  \n",
    "- ANAISF: Year of birth of the wife\n",
    "- ANAISH: Year of birth of the husband\n",
    "- DEPMAR: district of wedding\n",
    "- JSEMAINE: Wedding day in the week"
   ]
  },
  {
   "cell_type": "markdown",
   "metadata": {},
   "source": [
    "### Exercise 4 : scatter plot\n",
    "\n",
    "We want to draw a cloud of points (scatter plot) with the age of the husband in the abscissa and the age of the woman in the ordinate. It may be necessary to take a look at the documentation of the method [plot](http://pandas.pydata.org/pandas-docs/stable/generated/pandas.DataFrame.plot.html). \n",
    "Given the number of observations, this graph may be less readable than a [heatmap](http://pandas.pydata.org/pandas-docs/stable/visualization.html#visualization-hexbin)."
   ]
  },
  {
   "cell_type": "markdown",
   "metadata": {},
   "source": [
    "Mmmhhh seems that we don't have the age of the husband or wife as a variable. So first, add two columns with the age of teh wife and the age of the husband in year (remember the table is as of year 2012).  \n",
    "\n",
    "You might want to use the function :\n",
    "[DataFrame.apply](https://pandas.pydata.org/pandas-docs/stable/reference/api/pandas.DataFrame.apply.html) "
   ]
  },
  {
   "cell_type": "code",
   "execution_count": 91,
   "metadata": {},
   "outputs": [],
   "source": [
    "df[\"ageH\"] = df.apply(...)\n",
    "df[\"ageW\"] = df.apply(...)"
   ]
  },
  {
   "cell_type": "code",
   "execution_count": 68,
   "metadata": {},
   "outputs": [],
   "source": [
    "# kind=\"scatter\"\n",
    "df.plot(...)"
   ]
  },
  {
   "cell_type": "code",
   "execution_count": null,
   "metadata": {},
   "outputs": [],
   "source": [
    "# compares with kind=\"hexbin\" (for heatmap)\n",
    "df.plot(...)"
   ]
  },
  {
   "cell_type": "markdown",
   "metadata": {},
   "source": [
    "### Exercicse 5 : graph of a distribution with pandas\n",
    "\n",
    "By adding a column and by using the opération [group by](http://pandas.pydata.org/pandas-docs/stable/groupby.html), we want to get the distribution of the number of marriages according to the gap between the married couple. If necessary, we will change the type of a colone or two. The `` pandas`` module offers a panel of easy-to-obtain standard graphics. It is desired to represent the distribution as a histogram. It's up to you to choose the best graph from the webpage [Visualization](http://pandas.pydata.org/pandas-docs/stable/visualization.html)."
   ]
  },
  {
   "cell_type": "code",
   "execution_count": 121,
   "metadata": {},
   "outputs": [],
   "source": [
    "def convert_to_int(row, col_name):\n",
    "    return int(row[col_name])\n",
    "\n",
    "# change the type of the relevant columns to integer\n",
    "df[\"column\"] = df.apply (convert_to_int, args = (\"column\",), axis=1)  # to change the type\n",
    "\n",
    "# add the difference to the df\n",
    "df[\"gap\"] = ...\n",
    "\n",
    "# we add a column of 1s, that we will use to count the number of occurences for our histogram\n",
    "# remember an histogram represents the distribution of your data, \n",
    "# it gives you the proportion (or the number) of data points (y-axis) assocated\n",
    "# to a certain value or range of values (the bins in x-axis)\n",
    "\n",
    "# so add the 1 column\n",
    "df[\"number\"] = 1\n",
    "\n",
    "# now, we want the number of ... by gap, so we need to group by gap, \n",
    "# and only keep the columns \"number\" and \"gap\" in our new dataframe, call it dist (for distribution)\n",
    "dist = df[ [??, ??] ].groupby(??, as_index=False).count()\n",
    "dist.head()\n",
    "\n",
    "# now you can simply plot dist\n",
    "dist.plot(kind = \"bar\", figsize=(12,6))\n",
    "\n",
    "# note that what we did was to contsruct manually the distribution to plot it\n",
    "# we can actually plot this distribution directly using the \"hist\" plot\n",
    "df[??].hist(figsize=(12,6), bins=50)"
   ]
  },
  {
   "cell_type": "markdown",
   "metadata": {},
   "source": [
    "### matplotlib\n",
    "\n",
    "[matplotlib](http://matplotlib.org/) is the module that [pandas](http://pandas.pydata.org/) uses. Hence, the method [plot](http://pandas.pydata.org/pandas-docs/stable/generated/pandas.DataFrame.plot.html) returns an object of type [Axes](http://matplotlib.org/api/axes_api.html#module-matplotlib.axes) that we can then modify using the [following methods](http://matplotlib.org/api/pyplot_summary.html). We can add a title with [set_title](http://matplotlib.org/api/axes_api.html#matplotlib.axes.Axes.set_title) or add a grid with [grid](http://matplotlib.org/api/axes_api.html#matplotlib.axes.Axes.grid). We can also superimpose [two curves on the same graph](http://stackoverflow.com/questions/19941685/how-to-show-a-bar-and-line-graph-on-the-same-plot), or [change the font size](http://stackoverflow.com/questions/12444716/how-do-i-set-figure-title-and-axes-labels-font-size-in-matplotlib). \n",
    "The following code plot the number of weddings by department."
   ]
  },
  {
   "cell_type": "code",
   "execution_count": 99,
   "metadata": {},
   "outputs": [
    {
     "data": {
      "image/png": "[encoded data removed]",
      "text/plain": [
       "<Figure size 1152x432 with 1 Axes>"
      ]
     },
     "metadata": {
      "needs_background": "light"
     },
     "output_type": "display_data"
    }
   ],
   "source": [
    "df[\"nb\"] = 1\n",
    "dep = df[[\"DEPMAR\",\"nb\"]].groupby(\"DEPMAR\", as_index=False).sum().sort_values(\"nb\",ascending=False)\n",
    "ax = dep.plot(kind = \"bar\", figsize=(16,6))\n",
    "ax.set_xlabel(\"district\", fontsize=16)\n",
    "ax.set_title(\"number of weddings per district\", fontsize=16)\n",
    "ax.legend().set_visible(False)  # we remove the legend\n",
    "\n",
    "# we change the font size for some labels\n",
    "for i,tick in enumerate(ax.xaxis.get_major_ticks()):\n",
    "    if i > 10 :\n",
    "        tick.label.set_fontsize(8)"
   ]
  },
  {
   "cell_type": "markdown",
   "metadata": {},
   "source": [
    "When we don't know the simplest is to google : ``matplotlib + request``. To create a graph, the most common is to choose the most similar graph from a [graph gallery](http://matplotlib.org/gallery.html) then adapt it to your data. We can also change the [style](http://matplotlib.org/users/style_sheets.html) of the graphs. A popular style is that of [ggplot2](http://www.statmethods.net/advgraphs/ggplot2.html) :"
   ]
  },
  {
   "cell_type": "code",
   "execution_count": 100,
   "metadata": {},
   "outputs": [],
   "source": [
    "import matplotlib.pyplot as plt\n",
    "plt.style.use('ggplot')\n",
    "\n",
    "# and now re-run your graphs to see the changes"
   ]
  },
  {
   "cell_type": "markdown",
   "metadata": {},
   "source": [
    "### Exercise 6 : distribution of weddings per day\n",
    "    \n",
    "We want to obtain a graph that contains the histogram of the distribution of the number of weddings per day of the week and to add a second curve on a second axis corresponding to the cumulative distribution."
   ]
  },
  {
   "cell_type": "code",
   "execution_count": 72,
   "metadata": {
    "collapsed": true
   },
   "outputs": [],
   "source": [
    "# generate the dataframe that contains the desired distribution info (see above) \n",
    "df[\"nb\"] = 1\n",
    "dist_week = df[[??,??]].groupby(\"JSEMAINE\",as_index=False).sum()\n",
    "\n",
    "# calculate the total number of weddings\n",
    "\n",
    "# generate a dataframe that contains the cumulative sum of weddings per day,\n",
    "# that is number of wedding of Monday + number of wedding of Tuesday + ...\n",
    "# as a check, cumulative number of wedding of Sunday (the last day)\n",
    "# must equal the total number of weddings\n",
    "\n",
    "# divide the \"nb\" column by \"total\", that is express the number of observations in %\n",
    "\n",
    "# now use a bar-plot (kind=\"bar\") to plot the distribution of interest \n",
    "# and the cumulative distribution on the second axis\n",
    "ax = dist_week[??].plot(kind=\"bar\")\n",
    "cumdist[??].plot(ax=ax, secondary_y=True)\n",
    "ax.set_title(\"distribution of weddings per day\")"
   ]
  },
  {
   "cell_type": "markdown",
   "metadata": {},
   "source": [
    "**THE END**"
   ]
  }
 ],
 "metadata": {
  "kernelspec": {
   "display_name": "Python 3",
   "language": "python",
   "name": "python3"
  },
  "language_info": {
   "codemirror_mode": {
    "name": "ipython",
    "version": 3
   },
   "file_extension": ".py",
   "mimetype": "text/x-python",
   "name": "python",
   "nbconvert_exporter": "python",
   "pygments_lexer": "ipython3",
   "version": "3.7.3"
  }
 },
 "nbformat": 4,
 "nbformat_minor": 1
}
