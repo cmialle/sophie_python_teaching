{
 "cells": [
  {
   "cell_type": "code",
   "execution_count": 1,
   "metadata": {},
   "outputs": [],
   "source": [
    "import numpy as np\n",
    "from math import log, sqrt, exp\n",
    "from scipy import stats"
   ]
  },
  {
   "cell_type": "markdown",
   "metadata": {},
   "source": [
    "### European call by Monte Carlo"
   ]
  },
  {
   "cell_type": "markdown",
   "metadata": {},
   "source": [
    "- initial stock level $S_0$ = 100\n",
    "- strike of the call $K$ = 105\n",
    "- Time to maturity $T$ = 1 year\n",
    "- risk-free rate $r$ = 0.05\n",
    "- volatility $\\sigma$ = 0.2\n",
    "\n",
    "stock level at maturity in BS model:\n",
    "$$S_T = S_0 exp\\left( \\left( r - \\frac{1}{2}\\sigma^2\\right)T + \\sigma\\sqrt{T}z \\right)$$\n",
    "where $z$ is a standard normal random variable.\n",
    "\n",
    "- The non-arbitrage value of european call is given by  the expectation of the discounted cash flows.  \n",
    "- Here one cash flow at maturity $T$: $max(S_T - K, 0)$\n",
    "flat rate $r$, therefore discount factor for maturity $T$ : $e^{-rT}$\n",
    "- The non-arbitrage value is then: \n",
    "\n",
    "$$e^{-rT}\\mathbb{E}\\left[max(S_T - K, 0)\\right]$$\n",
    "\n",
    "To value the call by **Monte Carlo**:\n",
    "1. Draw $N$ random numbers from the standard normal distribution: $z_1,...,z_N$\n",
    "2. Calculate all the stock levels at time $T$: $S_T^1,...,S_T^N$ using the $z_i$ numbers.\n",
    "3. Calculate the payoff values at maturity: $G_T^i = max(S_T^i - K, 0)$ that is $G_T^1,..., G_T^N$.\n",
    "4. Finally, estimate the present value $V_0$ by forming the average of the simulated payoff values. And discount from $T$ to time $0$:\n",
    "$$V_0 \\approx e^{-rT} \\frac{1}{N}\\sum_{i=1}^N G_T^i$$"
   ]
  },
  {
   "cell_type": "markdown",
   "metadata": {},
   "source": [
    "exemple SC model : $S(T) \\sim N(S_0, \\sigma)$  \n",
    "where $S_0 = 100$ and $\\sigma = 20$  \n",
    "assume $r=0$, so $df = 1$"
   ]
  },
  {
   "cell_type": "code",
   "execution_count": 10,
   "metadata": {},
   "outputs": [],
   "source": [
    "def payoff_func(x):\n",
    "    return np.maximum(x - K, 0)"
   ]
  },
  {
   "cell_type": "code",
   "execution_count": 28,
   "metadata": {},
   "outputs": [
    {
     "name": "stdout",
     "output_type": "stream",
     "text": [
      "10000-sample mean is: 6.9543926815792565\n"
     ]
    }
   ],
   "source": [
    "N = 10000 # sample size\n",
    "S0 = 100\n",
    "stddev = 20\n",
    "K = 102\n",
    "# np.random.normal(mean=..., stddev=..., size=None)\n",
    "Ss = np.random.normal(S0, stddev, size=N) # draw N numbers from S(T)\n",
    "Gs = payoff_func(Ss)\n",
    "mc_mean = Gs.mean()\n",
    "print(f\"{N}-sample mean is: {mc_mean}\")"
   ]
  },
  {
   "cell_type": "code",
   "execution_count": 33,
   "metadata": {},
   "outputs": [],
   "source": [
    "def mc_call_pv(S0,K,T,r,sigma,num_paths):\n",
    "    Z = np.random.normal(size=num_paths) # N samples of N(0,1)\n",
    "    S_T = S0 * np.exp( (r - 0.5*sigma**2)*T + sigma*np.sqrt(T)*Z ) # N samples of S(T)\n",
    "    G_T = payoff_func(S_T) # N samples of G(T)\n",
    "    mc_pv = G_T.mean() * np.exp(-r*T)\n",
    "    return mc_pv"
   ]
  },
  {
   "cell_type": "code",
   "execution_count": 34,
   "metadata": {},
   "outputs": [
    {
     "name": "stdout",
     "output_type": "stream",
     "text": [
      "100-sample mean is: 8.70201351666766\n",
      "100-sample mean is: 7.559389827695227\n",
      "100-sample mean is: 7.947533366179867\n",
      "100-sample mean is: 7.943956019033248 \n",
      "\n",
      "1000-sample mean is: 7.8449787789971115\n",
      "1000-sample mean is: 8.162594740198797\n",
      "1000-sample mean is: 7.999837158260249\n",
      "1000-sample mean is: 7.606180736439126 \n",
      "\n",
      "10000-sample mean is: 7.799715237133487\n",
      "10000-sample mean is: 7.937878602208611\n",
      "10000-sample mean is: 8.150092177059184\n",
      "10000-sample mean is: 8.075672554532632\n"
     ]
    }
   ],
   "source": [
    "#  parameter values\n",
    "S0 = 100\n",
    "K = 105\n",
    "T = 1\n",
    "r = 0.05\n",
    "sigma = 0.2\n",
    "n1 = 100\n",
    "n2 = 1000\n",
    "n3 = 10000\n",
    "\n",
    "print(f\"{n1}-sample mean is: {mc_call_pv(S0,K,T,r,sigma,n1)}\")\n",
    "print(f\"{n1}-sample mean is: {mc_call_pv(S0,K,T,r,sigma,n1)}\")\n",
    "print(f\"{n1}-sample mean is: {mc_call_pv(S0,K,T,r,sigma,n1)}\")\n",
    "print(f\"{n1}-sample mean is: {mc_call_pv(S0,K,T,r,sigma,n1)} \\n\")\n",
    "\n",
    "print(f\"{n2}-sample mean is: {mc_call_pv(S0,K,T,r,sigma,n2)}\")\n",
    "print(f\"{n2}-sample mean is: {mc_call_pv(S0,K,T,r,sigma,n2)}\")\n",
    "print(f\"{n2}-sample mean is: {mc_call_pv(S0,K,T,r,sigma,n2)}\")\n",
    "print(f\"{n2}-sample mean is: {mc_call_pv(S0,K,T,r,sigma,n2)} \\n\")\n",
    "\n",
    "print(f\"{n3}-sample mean is: {mc_call_pv(S0,K,T,r,sigma,n3)}\")\n",
    "print(f\"{n3}-sample mean is: {mc_call_pv(S0,K,T,r,sigma,n3)}\")\n",
    "print(f\"{n3}-sample mean is: {mc_call_pv(S0,K,T,r,sigma,n3)}\")\n",
    "print(f\"{n3}-sample mean is: {mc_call_pv(S0,K,T,r,sigma,n3)}\")"
   ]
  },
  {
   "cell_type": "markdown",
   "metadata": {},
   "source": [
    "### European call by B-S formula"
   ]
  },
  {
   "cell_type": "markdown",
   "metadata": {},
   "source": [
    "The value at time $t$ of a European call for in [B-S formula](https://en.wikipedia.org/wiki/Black%E2%80%93Scholes_model#Black%E2%80%93Scholes_formula) with the same parameters as above is:\n",
    "\n",
    "\\begin{equation*}\n",
    "\\begin{aligned}\n",
    " V_t &= N(d_1) S_t - N(d_2)Ke^{-rT} \\\\\n",
    " d_1 &= \\frac{ln \\left( \\frac{S_t}{K} \\right) + \\left( r + \\frac{\\sigma^2}{2} \\right)(T-t)}{\\sigma \\sqrt{T-t}}  \\\\\n",
    " d_2 &= d_1 - \\sigma \\sqrt{T-t}\n",
    "\\end{aligned}\n",
    "\\end{equation*}\n",
    "\n",
    "The price of a corresponding put option of same strike $K$ and maturiry $T$ is:\n",
    "\n",
    "$$V_t = N(-d_2)Ke^{-rT} - N(-d_1)S_t$$\n",
    "\n",
    "where $N(.)$ is the cumulative distribution function of the standard normal distribution. $(T-t)$ is the time to matutity (expressed in years). \n",
    "\n",
    "Note that for the time $t=0$ call value, we simply write:\n",
    "\n",
    "\\begin{equation*}\n",
    "\\begin{aligned}\n",
    " V_0 &= N(d_1) S_0 - N(d_2)Ke^{-rT} \\\\\n",
    " d_1 &= \\frac{ln \\left( \\frac{S_0}{K} \\right) + \\left( r + \\frac{\\sigma^2}{2} \\right)T}{\\sigma \\sqrt{T}}  \\\\\n",
    " d_2 &= d_1 - \\sigma \\sqrt{T}\n",
    "\\end{aligned}\n",
    "\\end{equation*}"
   ]
  }
 ],
 "metadata": {
  "kernelspec": {
   "display_name": "Python 3",
   "language": "python",
   "name": "python3"
  },
  "language_info": {
   "codemirror_mode": {
    "name": "ipython",
    "version": 3
   },
   "file_extension": ".py",
   "mimetype": "text/x-python",
   "name": "python",
   "nbconvert_exporter": "python",
   "pygments_lexer": "ipython3",
   "version": "3.7.3"
  }
 },
 "nbformat": 4,
 "nbformat_minor": 2
}
