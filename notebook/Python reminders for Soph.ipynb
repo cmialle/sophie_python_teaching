{
 "cells": [
  {
   "cell_type": "markdown",
   "metadata": {},
   "source": [
    "# Python reminder for Soph"
   ]
  },
  {
   "cell_type": "code",
   "execution_count": 35,
   "metadata": {},
   "outputs": [
    {
     "data": {
      "text/html": [
       "<div id=\"my_id_menu_nb\">run previous cell, wait for 2 seconds</div>\n",
       "<script>\n",
       "function repeat_indent_string(n){\n",
       "    var a = \"\" ;\n",
       "    for ( ; n > 0 ; --n)\n",
       "        a += \"    \";\n",
       "    return a;\n",
       "}\n",
       "// look up into all sections and builds an automated menu //\n",
       "var update_menu_string = function(begin, lfirst, llast, sformat, send, keep_item, begin_format, end_format) {\n",
       "    var anchors = document.getElementsByClassName(\"section\");\n",
       "    if (anchors.length == 0) {\n",
       "        anchors = document.getElementsByClassName(\"text_cell_render rendered_html\");\n",
       "    }\n",
       "    var i,t;\n",
       "    var text_menu = begin;\n",
       "    var text_memo = \"<pre>\\nlength:\" + anchors.length + \"\\n\";\n",
       "    var ind = \"\";\n",
       "    var memo_level = 1;\n",
       "    var href;\n",
       "    var tags = [];\n",
       "    var main_item = 0;\n",
       "    var format_open = 0;\n",
       "    for (i = 0; i <= llast; i++)\n",
       "        tags.push(\"h\" + i);\n",
       "\n",
       "    for (i = 0; i < anchors.length; i++) {\n",
       "        text_memo += \"**\" + anchors[i].id + \"--\\n\";\n",
       "\n",
       "        var child = null;\n",
       "        for(t = 0; t < tags.length; t++) {\n",
       "            var r = anchors[i].getElementsByTagName(tags[t]);\n",
       "            if (r.length > 0) {\n",
       "child = r[0];\n",
       "break;\n",
       "            }\n",
       "        }\n",
       "        if (child == null) {\n",
       "            text_memo += \"null\\n\";\n",
       "            continue;\n",
       "        }\n",
       "        if (anchors[i].hasAttribute(\"id\")) {\n",
       "            // when converted in RST\n",
       "            href = anchors[i].id;\n",
       "            text_memo += \"#1-\" + href;\n",
       "            // passer à child suivant (le chercher)\n",
       "        }\n",
       "        else if (child.hasAttribute(\"id\")) {\n",
       "            // in a notebook\n",
       "            href = child.id;\n",
       "            text_memo += \"#2-\" + href;\n",
       "        }\n",
       "        else {\n",
       "            text_memo += \"#3-\" + \"*\" + \"\\n\";\n",
       "            continue;\n",
       "        }\n",
       "        var title = child.textContent;\n",
       "        var level = parseInt(child.tagName.substring(1,2));\n",
       "\n",
       "        text_memo += \"--\" + level + \"?\" + lfirst + \"--\" + title + \"\\n\";\n",
       "\n",
       "        if ((level < lfirst) || (level > llast)) {\n",
       "            continue ;\n",
       "        }\n",
       "        if (title.endsWith('¶')) {\n",
       "            title = title.substring(0,title.length-1).replace(\"<\", \"&lt;\")\n",
       "         .replace(\">\", \"&gt;\").replace(\"&\", \"&amp;\");\n",
       "        }\n",
       "        if (title.length == 0) {\n",
       "            continue;\n",
       "        }\n",
       "\n",
       "        while (level < memo_level) {\n",
       "            text_menu += end_format + \"</ul>\\n\";\n",
       "            format_open -= 1;\n",
       "            memo_level -= 1;\n",
       "        }\n",
       "        if (level == lfirst) {\n",
       "            main_item += 1;\n",
       "        }\n",
       "        if (keep_item != -1 && main_item != keep_item + 1) {\n",
       "            // alert(main_item + \" - \" + level + \" - \" + keep_item);\n",
       "            continue;\n",
       "        }\n",
       "        while (level > memo_level) {\n",
       "            text_menu += \"<ul>\\n\";\n",
       "            memo_level += 1;\n",
       "        }\n",
       "        text_menu += repeat_indent_string(level-2);\n",
       "        text_menu += begin_format + sformat.replace(\"__HREF__\", href).replace(\"__TITLE__\", title);\n",
       "        format_open += 1;\n",
       "    }\n",
       "    while (1 < memo_level) {\n",
       "        text_menu += end_format + \"</ul>\\n\";\n",
       "        memo_level -= 1;\n",
       "        format_open -= 1;\n",
       "    }\n",
       "    text_menu += send;\n",
       "    //text_menu += \"\\n\" + text_memo;\n",
       "\n",
       "    while (format_open > 0) {\n",
       "        text_menu += end_format;\n",
       "        format_open -= 1;\n",
       "    }\n",
       "    return text_menu;\n",
       "};\n",
       "var update_menu = function() {\n",
       "    var sbegin = \"\";\n",
       "    var sformat = '<a href=\"#__HREF__\">__TITLE__</a>';\n",
       "    var send = \"\";\n",
       "    var begin_format = '<li>';\n",
       "    var end_format = '</li>';\n",
       "    var keep_item = -1;\n",
       "    var text_menu = update_menu_string(sbegin, 2, 4, sformat, send, keep_item,\n",
       "       begin_format, end_format);\n",
       "    var menu = document.getElementById(\"my_id_menu_nb\");\n",
       "    menu.innerHTML=text_menu;\n",
       "};\n",
       "window.setTimeout(update_menu,2000);\n",
       "            </script>"
      ],
      "text/plain": [
       "<IPython.core.display.HTML object>"
      ]
     },
     "execution_count": 35,
     "metadata": {},
     "output_type": "execute_result"
    }
   ],
   "source": [
    "from jyquickhelper import add_notebook_menu\n",
    "add_notebook_menu()"
   ]
  },
  {
   "cell_type": "markdown",
   "metadata": {},
   "source": [
    "## Some rules in Python\n",
    "\n",
    "Python is a little sensitive and formal, there are some rules to respect:\n",
    "\n",
    "1) Indentation is essential: a badly indented code does not work.\n",
    "Indentation tells the interpreter where the separations between blocks of instructions are. A bit like points in a text.\n",
    "If the lines are not aligned correctly, the interpreter does not know which block to associate the line with.\n",
    "\n",
    "2) We start counting from 0. It may seem odd but it's like that. The first element of a list is the 0-th.\n",
    "\n",
    "3) Punctuation marks are important:\n",
    "- For a list: []\n",
    "- For a dictionary: {}\n",
    "- For a tuple: ()\n",
    "- To separate elements:,\n",
    "- To comment on a piece of code: #\n",
    "- To go to the line in a block of instructions: \\\n",
    "- Upper and lower case are important\n",
    "- On the other hand the use of 'or' is indifferent. You just have to have the same beginning and end.\n",
    "- To document a function or class \"\"\" documentation \"\"\" "
   ]
  },
  {
   "cell_type": "markdown",
   "metadata": {},
   "source": [
    "## Python's outputs : the operation,  print and return\n",
    "\n",
    "When Python performs operations, you have to tell him what to do with it:\n",
    "- does it just have to do the operation,\n",
    "- display the result of the operation,\n",
    "- create an object with the result of the operation?\n",
    "\n",
    "\n",
    "Note: In the Notebook environment, the last element of a cell is automatically displayed (print), whether or not it is asked to do so. This is not the case in a classic publisher like PyCharm."
   ]
  },
  {
   "cell_type": "code",
   "execution_count": 2,
   "metadata": {},
   "outputs": [
    {
     "name": "stdout",
     "output_type": "stream",
     "text": [
      "5\n"
     ]
    }
   ],
   "source": [
    "# calculates: in the case of an operation for example a sum\n",
    "2+3 # Python calculates the result but displays nothing in the output\n",
    "\n",
    "# print\n",
    "\n",
    "print(2+3) # Python calculates and we just ask him to display the result is below the code"
   ]
  },
  {
   "cell_type": "code",
   "execution_count": 3,
   "metadata": {},
   "outputs": [
    {
     "name": "stdout",
     "output_type": "stream",
     "text": [
      "2\n",
      "<class 'NoneType'>\n"
     ]
    }
   ],
   "source": [
    "# print in a fonction \n",
    "\n",
    "def add_v1(a,b) : \n",
    "    print(a+b)\n",
    "\n",
    "result_print = add_v1(2,0) \n",
    "print(type(result_print))\n",
    "\n",
    "# in the output we have the display of the result, because the output of the function is a print\n",
    "# in addition, we ask him what is the type of the result. A print does not return any type, it is neither a numeric,\n",
    "# nor a string of characters, the result of a print is not a usable format"
   ]
  },
  {
   "cell_type": "markdown",
   "metadata": {},
   "source": [
    "The result of the addition is displayed\n",
    "\n",
    "The add_v1 function performs a print\n",
    "\n",
    "On the other hand, the created object has no type, it is not a number, it is only a display.\n",
    "\n",
    "To create an object with the result of the function, use __return__"
   ]
  },
  {
   "cell_type": "code",
   "execution_count": 4,
   "metadata": {},
   "outputs": [
    {
     "name": "stdout",
     "output_type": "stream",
     "text": [
      "<class 'int'>\n"
     ]
    }
   ],
   "source": [
    "# return in a fonction\n",
    "def add_v2(a,b) : \n",
    "    return a+b\n",
    "\n",
    "result_return = add_v2(2,5) # \n",
    "print(type(result_return))\n",
    "## here we have a result of type \"integer\""
   ]
  },
  {
   "cell_type": "markdown",
   "metadata": {},
   "source": [
    "\n",
    "The result of addition_v2 is not displayed as in add_v1\n",
    "\n",
    "On the other hand, the function add_v2 makes it possible to have an object of the type int, thus an integer."
   ]
  },
  {
   "cell_type": "markdown",
   "metadata": {},
   "source": [
    "## Basic type: variables, lists, dictionaries ..\n",
    "\n",
    "Pyhon allows to manipulate different basic types\n",
    "\n",
    "There are two types of variables: the immutable that can not be modified and the mutable (modifiable)\n",
    "\n",
    "### the  variables -  Immutable types\n",
    "\n",
    "Immutable variables can not be changed\n",
    "\n",
    "- None: this type is a programming convention to say that the value is not computed\n",
    "- bool: a boolean\n",
    "- int: an integer\n",
    "- float: a real\n",
    "- str: a string of characters\n",
    "- tuple: a vector\n"
   ]
  },
  {
   "cell_type": "code",
   "execution_count": 1,
   "metadata": {},
   "outputs": [
    {
     "name": "stdout",
     "output_type": "stream",
     "text": [
      "3 3.3 exemple None (1, 2)\n"
     ]
    }
   ],
   "source": [
    "i = 3         # integer = numeric type (type int)\n",
    "r = 3.3       # float   = numeric type (type float)\n",
    "s = \"exemple\" # string = type str \n",
    "n = None      # None means that the variable exists but does not contain anything\n",
    "              # it is often used to mean that there is no result\n",
    "a = (1,2)     # tuple\n",
    "\n",
    "print(i,r,s,n,a)         "
   ]
  },
  {
   "cell_type": "markdown",
   "metadata": {},
   "source": [
    "If we try to change the first element of the string __s__ we will have a little trouble.\n",
    "\n",
    "For example if we wanted to capitalize \"example\", we would like to write that the first element of the chain s is \"E\" uppercase\n",
    "\n",
    "But Python is not going to let us do it, he tells us that the objects \"string of character\" can not be modified"
   ]
  },
  {
   "cell_type": "code",
   "execution_count": 2,
   "metadata": {},
   "outputs": [
    {
     "ename": "TypeError",
     "evalue": "'str' object does not support item assignment",
     "output_type": "error",
     "traceback": [
      "\u001b[1;31m---------------------------------------------------------------------------\u001b[0m",
      "\u001b[1;31mTypeError\u001b[0m                                 Traceback (most recent call last)",
      "\u001b[1;32m<ipython-input-2-185c0feef73b>\u001b[0m in \u001b[0;36m<module>\u001b[1;34m\u001b[0m\n\u001b[1;32m----> 1\u001b[1;33m \u001b[0ms\u001b[0m\u001b[1;33m[\u001b[0m\u001b[1;36m0\u001b[0m\u001b[1;33m]\u001b[0m \u001b[1;33m=\u001b[0m \u001b[1;34m\"E\"\u001b[0m  \u001b[1;31m# déclenche une exception\u001b[0m\u001b[1;33m\u001b[0m\u001b[1;33m\u001b[0m\u001b[0m\n\u001b[0m",
      "\u001b[1;31mTypeError\u001b[0m: 'str' object does not support item assignment"
     ]
    }
   ],
   "source": [
    "s[0] = \"E\"  # déclenche une exception"
   ]
  },
  {
   "cell_type": "markdown",
   "metadata": {},
   "source": [
    "All you can do with an immutable variable is reassign it to another value: it can not be changed\n",
    "\n",
    "To be convinced of this, use the id () function which gives an identifier to each object."
   ]
  },
  {
   "cell_type": "code",
   "execution_count": 3,
   "metadata": {},
   "outputs": [
    {
     "name": "stdout",
     "output_type": "stream",
     "text": [
      "exemple\n"
     ]
    },
    {
     "data": {
      "text/plain": [
       "3151911523864"
      ]
     },
     "execution_count": 3,
     "metadata": {},
     "output_type": "execute_result"
    }
   ],
   "source": [
    "print(s)\n",
    "id(s)"
   ]
  },
  {
   "cell_type": "code",
   "execution_count": 4,
   "metadata": {},
   "outputs": [
    {
     "data": {
      "text/plain": [
       "3151911509296"
      ]
     },
     "execution_count": 4,
     "metadata": {},
     "output_type": "execute_result"
    }
   ],
   "source": [
    "s = \"autre_mot\"\n",
    "id(s)"
   ]
  },
  {
   "cell_type": "markdown",
   "metadata": {},
   "source": [
    "We can see that s has changed its identifier: it can have the same name, it is no longer the same object"
   ]
  },
  {
   "cell_type": "markdown",
   "metadata": {},
   "source": [
    "### the variables - mutable types  : listes and dictionaries\n",
    "\n",
    "Fortunately, there are editable variables like lists and dictionaries.\n",
    "\n",
    "####  lists - written with [ ]\n",
    "\n",
    "\n",
    "Lists are very useful items, especially when you want to make loops\n",
    "\n",
    "To use the elements of a list, we give their position in the list: the 1st is the 0, the 2nd is the 1 ..."
   ]
  },
  {
   "cell_type": "code",
   "execution_count": 5,
   "metadata": {},
   "outputs": [
    {
     "name": "stdout",
     "output_type": "stream",
     "text": [
      "my list is of length 4\n",
      "its first element is : 1\n",
      "its last element is : 4\n",
      "its last element is : 4\n"
     ]
    }
   ],
   "source": [
    "my_list = [1,2,3,4]\n",
    "\n",
    "\n",
    "print(\"my list is of length\", len(my_list))\n",
    "\n",
    "print(\"its first element is :\", my_list[0])\n",
    "\n",
    "print(\"its last element is :\", my_list[3])\n",
    "print(\"its last element is :\", my_list[-1])"
   ]
  },
  {
   "cell_type": "markdown",
   "metadata": {},
   "source": [
    "#### dictionaries - written with { }\n",
    "A dictionary associates an element to a key, the element is called a value: a number, a name, a list, another dictionary, and so on\n",
    "\n",
    "  - __Dictionary Format  : {Key : value}__\n",
    "   "
   ]
  },
  {
   "cell_type": "markdown",
   "metadata": {},
   "source": [
    "#### dictionaries with int values\n",
    "\n",
    "For example, we can associate with a name, a number"
   ]
  },
  {
   "cell_type": "code",
   "execution_count": 6,
   "metadata": {},
   "outputs": [
    {
     "name": "stdout",
     "output_type": "stream",
     "text": [
      "{'Nicolas': 18, 'Soph': 15}\n"
     ]
    }
   ],
   "source": [
    "my_dic_marks = { 'Nicolas' : 18 , 'Soph' : 15} \n",
    "# a dictionary that each name associates a number\n",
    "# to Nicolas, we associate 18\n",
    "\n",
    "print(my_dic_marks) "
   ]
  },
  {
   "cell_type": "markdown",
   "metadata": {},
   "source": [
    "#### Dictionary with values that are lists"
   ]
  },
  {
   "cell_type": "markdown",
   "metadata": {},
   "source": [
    "For each key of a dictionary, you do not have to keep the same form of value\n",
    "\n",
    "In the example, the value of the key \"Nicolas\" is a list, while that of \"Booboo\" is a list of lists"
   ]
  },
  {
   "cell_type": "code",
   "execution_count": 17,
   "metadata": {},
   "outputs": [],
   "source": [
    "mon_dic_hobbies =  \\\n",
    "{ 'Nicolas' : ['Python','Beer','poker'] , \n",
    "  'Soph' : ['Bully Cedric','Tea','Yoga','Travel','Mickey Mouse'],\n",
    "  'Booboo' : [['Maths','Games'],['Eat','Sleep','Bully hubby','Poop']]}"
   ]
  },
  {
   "cell_type": "markdown",
   "metadata": {},
   "source": [
    "To access an element of the dictionary, we use the key instead of the position, as was the case in the lists"
   ]
  },
  {
   "cell_type": "code",
   "execution_count": 18,
   "metadata": {},
   "outputs": [
    {
     "name": "stdout",
     "output_type": "stream",
     "text": [
      "['Python', 'Beer', 'poker']\n"
     ]
    }
   ],
   "source": [
    "print(mon_dic_hobbies['Nicolas']) # print a list"
   ]
  },
  {
   "cell_type": "code",
   "execution_count": 19,
   "metadata": {},
   "outputs": [
    {
     "name": "stdout",
     "output_type": "stream",
     "text": [
      "['Bully Cedric', 'Tea', 'Yoga', 'Travel', 'Mickey Mouse']\n"
     ]
    }
   ],
   "source": [
    "print(mon_dic_hobbies['Soph']) # print another list"
   ]
  },
  {
   "cell_type": "markdown",
   "metadata": {},
   "source": [
    "If we want to have only the first list of Booboo's hobbies , we ask the first item on the list"
   ]
  },
  {
   "cell_type": "code",
   "execution_count": 20,
   "metadata": {},
   "outputs": [
    {
     "name": "stdout",
     "output_type": "stream",
     "text": [
      "['Maths', 'Games']\n"
     ]
    }
   ],
   "source": [
    "print(mon_dic_hobbies['Booboo'][0]) # only print the 1st list"
   ]
  },
  {
   "cell_type": "markdown",
   "metadata": {},
   "source": [
    "On peut aussi avoir des valeurs qui sont des int et des listes"
   ]
  },
  {
   "cell_type": "code",
   "execution_count": 22,
   "metadata": {},
   "outputs": [],
   "source": [
    "my_dic_patchwork_good = \\\n",
    "{ 'Nicolas' : ['Python','Beer','poker'] ,\n",
    "  'Soph' : 18 }"
   ]
  },
  {
   "cell_type": "markdown",
   "metadata": {},
   "source": [
    "## To remember\n",
    "    \n",
    "   - Indentation of the code is important (4 spaces and not a tabulation)\n",
    "   - A __list is between [] and we can call the positions by their place\n",
    "   - A __dictionary__, key x value, is written between {} and we call an element according to the key"
   ]
  },
  {
   "cell_type": "markdown",
   "metadata": {},
   "source": [
    "## Practical questions : \n",
    "\n",
    "   - What is the position of 7 in the following list"
   ]
  },
  {
   "cell_type": "code",
   "execution_count": 23,
   "metadata": {},
   "outputs": [],
   "source": [
    "list_numbers = [1,2,7,5,3]"
   ]
  },
  {
   "cell_type": "markdown",
   "metadata": {},
   "source": [
    "- How many keys has this dictionary?"
   ]
  },
  {
   "cell_type": "code",
   "execution_count": 24,
   "metadata": {},
   "outputs": [],
   "source": [
    " dic_gospel = {\"Marc\" : \"Lion\", \"Matthieu\" : [\"Ange\",\"Homme ailé\"] , \n",
    "                          \"Jean\" : \"Aigle\" , \"Luc\" : \"Taureau\"}"
   ]
  },
  {
   "cell_type": "markdown",
   "metadata": {},
   "source": [
    "- What do you have to write to get \"Angel\" as a result from the gospel dictionary?"
   ]
  },
  {
   "cell_type": "markdown",
   "metadata": {},
   "source": [
    "## Objets : methods and attributes\n",
    "\n",
    "Now that we have seen what objects exist in Python, we will see how we use them."
   ]
  },
  {
   "cell_type": "markdown",
   "metadata": {},
   "source": [
    "### A little detour to understand: An object, what is it?\n",
    "\n",
    "An object has two things: attributes and methods\n",
    "\n",
    "   - The attributes describe its internal structure: its size, its shape (which we will not talk about here)\n",
    "   - Methods are \"actions\" that will apply to the object"
   ]
  },
  {
   "cell_type": "markdown",
   "metadata": {},
   "source": [
    "### First examples of methods\n",
    "\n",
    "With the elements defined in part 1 (lists, dictionaries) we can use methods that are directly related to these objects.\n",
    "\n",
    "The methods are a bit like Python's actions."
   ]
  },
  {
   "cell_type": "markdown",
   "metadata": {},
   "source": [
    "#### A method for lists\n",
    "\n",
    "To add an item to a list: we will use the _.append () method _"
   ]
  },
  {
   "cell_type": "code",
   "execution_count": 25,
   "metadata": {},
   "outputs": [
    {
     "name": "stdout",
     "output_type": "stream",
     "text": [
      "['Nicolas', 'Michel', 'Bernard', 'Philippe']\n"
     ]
    }
   ],
   "source": [
    "my_list = [\"Nicolas\",\"Michel\",\"Bernard\"]\n",
    "\n",
    "my_list.append(\"Philippe\")\n",
    "\n",
    "print(my_list)"
   ]
  },
  {
   "cell_type": "markdown",
   "metadata": {},
   "source": [
    "#### A method for dictionaries\n",
    "\n",
    "To know all the keys of a dictionary, we call the _.keys () _ method"
   ]
  },
  {
   "cell_type": "code",
   "execution_count": 26,
   "metadata": {},
   "outputs": [
    {
     "name": "stdout",
     "output_type": "stream",
     "text": [
      "dict_keys(['Marc', 'Matthieu', 'Jean', 'Luc'])\n"
     ]
    }
   ],
   "source": [
    "my_dic = {\"Marc\" : \"Lion\", \"Matthieu\" : [\"Ange\",\"Homme ailé\"] , \n",
    "                          \"Jean\" : \"Aigle\" , \"Luc\" : \"Taureau\"}\n",
    "\n",
    "print(my_dic.keys())"
   ]
  },
  {
   "cell_type": "markdown",
   "metadata": {},
   "source": [
    "### Knowing the methods of an object\n",
    "\n",
    "To know what are the methods of an object you can:\n",
    "  - type help (my_object) or my_object? in the iPython console\n",
    "  - type my object. + tab key in the iPython console or in the notebook. iPython allows completion, that is, you can have the list displayed"
   ]
  },
  {
   "cell_type": "markdown",
   "metadata": {},
   "source": [
    "## Classical operations and methods of lists"
   ]
  },
  {
   "cell_type": "markdown",
   "metadata": {},
   "source": [
    "### Create a list\n",
    "\n",
    "To create an object of the list class, just declare it. Here we assign to __x__ a list"
   ]
  },
  {
   "cell_type": "code",
   "execution_count": 27,
   "metadata": {},
   "outputs": [],
   "source": [
    "x = [4, 5] # create a list of 2 integers\n",
    "x = [\"un\", 1, \"deux\", 2] #  create a list of 2 inegers and 2 strings\n",
    "#  the order matter\n",
    "x = [3] # create a list of 1 element, without the comma,\n",
    "x = [ ] # create an empty list\n",
    "x = list () # create an empty list"
   ]
  },
  {
   "cell_type": "markdown",
   "metadata": {},
   "source": [
    "### A first test on the lists\n",
    "\n",
    "If we want to test the presence of an element in a list, we write it as follows:"
   ]
  },
  {
   "cell_type": "code",
   "execution_count": 28,
   "metadata": {},
   "outputs": [
    {
     "name": "stdout",
     "output_type": "stream",
     "text": [
      "True\n"
     ]
    }
   ],
   "source": [
    "# Exemple \n",
    "\n",
    "x = \"Marcel\"\n",
    "\n",
    "l = [\"Marcel\",\"Edith\",\"Maurice\",\"Jean\"]\n",
    "\n",
    "print(x in l)\n",
    "\n",
    "#true if x belongs to l"
   ]
  },
  {
   "cell_type": "markdown",
   "metadata": {},
   "source": [
    "### To concatenate two lists:\n",
    "We use the + symbol"
   ]
  },
  {
   "cell_type": "code",
   "execution_count": 29,
   "metadata": {},
   "outputs": [
    {
     "name": "stdout",
     "output_type": "stream",
     "text": [
      "['Marcel', 'Edith', 'Maurice', 'Jean', 'Antoine', 'David']\n"
     ]
    }
   ],
   "source": [
    "t = [\"Antoine\",\"David\"]\n",
    "print(l + t) #concatenation of l and t"
   ]
  },
  {
   "cell_type": "markdown",
   "metadata": {},
   "source": [
    "### To find some elements of a list\n",
    "To search for items in a list, use the position in the list."
   ]
  },
  {
   "cell_type": "code",
   "execution_count": 30,
   "metadata": {},
   "outputs": [
    {
     "data": {
      "text/plain": [
       "'Edith'"
      ]
     },
     "execution_count": 30,
     "metadata": {},
     "output_type": "execute_result"
    }
   ],
   "source": [
    "l[1] # give element in 2nd position in l"
   ]
  },
  {
   "cell_type": "code",
   "execution_count": 31,
   "metadata": {},
   "outputs": [
    {
     "data": {
      "text/plain": [
       "['Edith', 'Maurice']"
      ]
     },
     "execution_count": 31,
     "metadata": {},
     "output_type": "execute_result"
    }
   ],
   "source": [
    "l[1:3] #give elements from 2nd position of the list to the 4th excluded"
   ]
  },
  {
   "cell_type": "markdown",
   "metadata": {},
   "source": [
    "### Some lists functions"
   ]
  },
  {
   "cell_type": "code",
   "execution_count": 32,
   "metadata": {},
   "outputs": [
    {
     "name": "stdout",
     "output_type": "stream",
     "text": [
      "4 Edith Maurice\n"
     ]
    }
   ],
   "source": [
    "length = len(l) # number of elements of l\n",
    "\n",
    "minimum = min(l) # smallest element of l, here alphabetical order\n",
    "\n",
    "maximum = max(l) # biggest element of l, here alphabetical order\n",
    "\n",
    "print(length,minimum,maximum)"
   ]
  },
  {
   "cell_type": "code",
   "execution_count": 33,
   "metadata": {},
   "outputs": [
    {
     "name": "stdout",
     "output_type": "stream",
     "text": [
      "['Maurice', 'Jean']\n"
     ]
    }
   ],
   "source": [
    "del l[0 : 2] # suppress the elements between position 0 et 2 excluded\n",
    "print(l)"
   ]
  },
  {
   "cell_type": "markdown",
   "metadata": {},
   "source": [
    "## List methods\n",
    "\n",
    "They are found in the help of the list. Special methods and methods are distinguished: visually, special methods are those preceded and followed by two underscores, the others are classical methods.\n"
   ]
  },
  {
   "cell_type": "code",
   "execution_count": 27,
   "metadata": {},
   "outputs": [
    {
     "name": "stdout",
     "output_type": "stream",
     "text": [
      "Help on list object:\n",
      "\n",
      "class list(object)\n",
      " |  list() -> new empty list\n",
      " |  list(iterable) -> new list initialized from iterable's items\n",
      " |  \n",
      " |  Methods defined here:\n",
      " |  \n",
      " |  __add__(self, value, /)\n",
      " |      Return self+value.\n",
      " |  \n",
      " |  __contains__(self, key, /)\n",
      " |      Return key in self.\n",
      " |  \n",
      " |  __delitem__(self, key, /)\n",
      " |      Delete self[key].\n",
      " |  \n",
      " |  __eq__(self, value, /)\n",
      " |      Return self==value.\n",
      " |  \n",
      " |  __ge__(self, value, /)\n",
      " |      Return self>=value.\n",
      " |  \n",
      " |  __getattribute__(self, name, /)\n",
      " |      Return getattr(self, name).\n",
      " |  \n",
      " |  __getitem__(...)\n",
      " |      x.__getitem__(y) <==> x[y]\n",
      " |  \n",
      " |  __gt__(self, value, /)\n",
      " |      Return self>value.\n",
      " |  \n",
      " |  __iadd__(self, value, /)\n",
      " |      Implement self+=value.\n",
      " |  \n",
      " |  __imul__(self, value, /)\n",
      " |      Implement self*=value.\n",
      " |  \n",
      " |  __init__(self, /, *args, **kwargs)\n",
      " |      Initialize self.  See help(type(self)) for accurate signature.\n",
      " |  \n",
      " |  __iter__(self, /)\n",
      " |      Implement iter(self).\n",
      " |  \n",
      " |  __le__(self, value, /)\n",
      " |      Return self<=value.\n",
      " |  \n",
      " |  __len__(self, /)\n",
      " |      Return len(self).\n",
      " |  \n",
      " |  __lt__(self, value, /)\n",
      " |      Return self<value.\n",
      " |  \n",
      " |  __mul__(self, value, /)\n",
      " |      Return self*value.n\n",
      " |  \n",
      " |  __ne__(self, value, /)\n",
      " |      Return self!=value.\n",
      " |  \n",
      " |  __new__(*args, **kwargs) from builtins.type\n",
      " |      Create and return a new object.  See help(type) for accurate signature.\n",
      " |  \n",
      " |  __repr__(self, /)\n",
      " |      Return repr(self).\n",
      " |  \n",
      " |  __reversed__(...)\n",
      " |      L.__reversed__() -- return a reverse iterator over the list\n",
      " |  \n",
      " |  __rmul__(self, value, /)\n",
      " |      Return self*value.\n",
      " |  \n",
      " |  __setitem__(self, key, value, /)\n",
      " |      Set self[key] to value.\n",
      " |  \n",
      " |  __sizeof__(...)\n",
      " |      L.__sizeof__() -- size of L in memory, in bytes\n",
      " |  \n",
      " |  append(...)\n",
      " |      L.append(object) -> None -- append object to end\n",
      " |  \n",
      " |  clear(...)\n",
      " |      L.clear() -> None -- remove all items from L\n",
      " |  \n",
      " |  copy(...)\n",
      " |      L.copy() -> list -- a shallow copy of L\n",
      " |  \n",
      " |  count(...)\n",
      " |      L.count(value) -> integer -- return number of occurrences of value\n",
      " |  \n",
      " |  extend(...)\n",
      " |      L.extend(iterable) -> None -- extend list by appending elements from the iterable\n",
      " |  \n",
      " |  index(...)\n",
      " |      L.index(value, [start, [stop]]) -> integer -- return first index of value.\n",
      " |      Raises ValueError if the value is not present.\n",
      " |  \n",
      " |  insert(...)\n",
      " |      L.insert(index, object) -- insert object before index\n",
      " |  \n",
      " |  pop(...)\n",
      " |      L.pop([index]) -> item -- remove and return item at index (default last).\n",
      " |      Raises IndexError if list is empty or index is out of range.\n",
      " |  \n",
      " |  remove(...)\n",
      " |      L.remove(value) -> None -- remove first occurrence of value.\n",
      " |      Raises ValueError if the value is not present.\n",
      " |  \n",
      " |  reverse(...)\n",
      " |      L.reverse() -- reverse *IN PLACE*\n",
      " |  \n",
      " |  sort(...)\n",
      " |      L.sort(key=None, reverse=False) -> None -- stable sort *IN PLACE*\n",
      " |  \n",
      " |  ----------------------------------------------------------------------\n",
      " |  Data and other attributes defined here:\n",
      " |  \n",
      " |  __hash__ = None\n",
      "\n"
     ]
    }
   ],
   "source": [
    "help(l)"
   ]
  },
  {
   "cell_type": "markdown",
   "metadata": {},
   "source": [
    "\n",
    "## To remember and questions\n",
    "\n",
    "To remember :\n",
    "\n",
    "- Each Python object has attributes and methods\n",
    "- You can create classes with attributes and methods\n",
    "- The methods of lists and dictionaries are the most used:\n",
    "    - list.count ()\n",
    "    - list.sort ()\n",
    "    - list.append ()\n",
    "    - dict.keys ()\n",
    "    - dict.items ()\n",
    "    - dict.values ()\n",
    "    \n",
    "------"
   ]
  },
  {
   "cell_type": "markdown",
   "metadata": {},
   "source": [
    "Practical questions:\n",
    "\n",
    " - Define the list from 1 to 10, then do the following:\n",
    " \n",
    "        - sort and display the list\n",
    "        - add item 11 to the list and display the list\n",
    "        - reverse and display the list\n",
    "        - display the index of element 7\n",
    "        - remove item 9 and display the list\n",
    "        - display the sub-list from 2nd to 3rd element;\n",
    "        - display the sub-list from the beginning to the second element;\n",
    "        - display the sub-list of the 3rd element at the end of the list;"
   ]
  },
  {
   "cell_type": "markdown",
   "metadata": {},
   "source": [
    "- Build the dictionary for the first 6 months of the year with the values ​​of the respective number of days.\n",
    "\n",
    "        - Return the list of months.\n",
    "        - Return the list of days.\n",
    "        - Add the key of the month of July?"
   ]
  },
  {
   "cell_type": "markdown",
   "metadata": {},
   "source": [
    "## From lists, dictionnaires to pandas"
   ]
  },
  {
   "cell_type": "markdown",
   "metadata": {},
   "source": [
    "Suppose the 'data' variable is a list that contains our data.\n",
    "\n",
    "An observation is a dictionary that contains the name, type, mood and note of a restaurant.\n",
    "\n",
    "It is easy to turn this list into a dataframe thanks to the 'DataFrame' function."
   ]
  },
  {
   "cell_type": "code",
   "execution_count": 34,
   "metadata": {},
   "outputs": [
    {
     "name": "stdout",
     "output_type": "stream",
     "text": [
      "[{'name': 'Little Pub', 'type': 'Bar', 'atmosphere': 9, 'note': 7}, {'name': 'Le Corse', 'type': 'Sandwicherie', 'atmosphere': 2, 'note': 8}, {'name': 'Café Caumartin', 'type': 'Bar', 'atmosphere': 1}]\n"
     ]
    },
    {
     "data": {
      "text/html": [
       "<div>\n",
       "<style scoped>\n",
       "    .dataframe tbody tr th:only-of-type {\n",
       "        vertical-align: middle;\n",
       "    }\n",
       "\n",
       "    .dataframe tbody tr th {\n",
       "        vertical-align: top;\n",
       "    }\n",
       "\n",
       "    .dataframe thead th {\n",
       "        text-align: right;\n",
       "    }\n",
       "</style>\n",
       "<table border=\"1\" class=\"dataframe\">\n",
       "  <thead>\n",
       "    <tr style=\"text-align: right;\">\n",
       "      <th></th>\n",
       "      <th>name</th>\n",
       "      <th>type</th>\n",
       "      <th>atmosphere</th>\n",
       "      <th>note</th>\n",
       "    </tr>\n",
       "  </thead>\n",
       "  <tbody>\n",
       "    <tr>\n",
       "      <td>0</td>\n",
       "      <td>Little Pub</td>\n",
       "      <td>Bar</td>\n",
       "      <td>9</td>\n",
       "      <td>7.0</td>\n",
       "    </tr>\n",
       "    <tr>\n",
       "      <td>1</td>\n",
       "      <td>Le Corse</td>\n",
       "      <td>Sandwicherie</td>\n",
       "      <td>2</td>\n",
       "      <td>8.0</td>\n",
       "    </tr>\n",
       "    <tr>\n",
       "      <td>2</td>\n",
       "      <td>Café Caumartin</td>\n",
       "      <td>Bar</td>\n",
       "      <td>1</td>\n",
       "      <td>NaN</td>\n",
       "    </tr>\n",
       "  </tbody>\n",
       "</table>\n",
       "</div>"
      ],
      "text/plain": [
       "             name          type  atmosphere  note\n",
       "0      Little Pub           Bar           9   7.0\n",
       "1        Le Corse  Sandwicherie           2   8.0\n",
       "2  Café Caumartin           Bar           1   NaN"
      ]
     },
     "execution_count": 34,
     "metadata": {},
     "output_type": "execute_result"
    }
   ],
   "source": [
    "import pandas \n",
    "\n",
    "data = [ {\"name\": \"Little Pub\", \"type\" : \"Bar\", \"atmosphere\": 9, \"note\": 7},\n",
    "         {\"name\": \"Le Corse\", \"type\" : \"Sandwicherie\", \"atmosphere\": 2, \"note\": 8},\n",
    "         {\"name\": \"Café Caumartin\", \"type\" : \"Bar\", \"atmosphere\": 1} ]\n",
    "\n",
    "df = pandas.DataFrame(data)\n",
    "\n",
    "print(data)\n",
    "df"
   ]
  },
  {
   "cell_type": "code",
   "execution_count": 29,
   "metadata": {
    "collapsed": true
   },
   "outputs": [],
   "source": []
  }
 ],
 "metadata": {
  "anaconda-cloud": {},
  "kernelspec": {
   "display_name": "Python 3",
   "language": "python",
   "name": "python3"
  },
  "language_info": {
   "codemirror_mode": {
    "name": "ipython",
    "version": 3
   },
   "file_extension": ".py",
   "mimetype": "text/x-python",
   "name": "python",
   "nbconvert_exporter": "python",
   "pygments_lexer": "ipython3",
   "version": "3.7.3"
  }
 },
 "nbformat": 4,
 "nbformat_minor": 1
}
