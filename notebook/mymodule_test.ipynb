{
 "cells": [
  {
   "cell_type": "code",
   "execution_count": null,
   "metadata": {},
   "outputs": [],
   "source": [
    "import sys\n",
    "new_path = r'C:\\Users\\cmial\\PyProjects\\CedricTraining\\mymodules'\n",
    "if new_path not in sys.path:\n",
    "    sys.path.append(new_path)"
   ]
  },
  {
   "cell_type": "code",
   "execution_count": null,
   "metadata": {},
   "outputs": [],
   "source": [
    "import BS_Sof as bss\n",
    "import numpy as np\n",
    "import matplotlib.pyplot as plt\n",
    "from scipy import stats"
   ]
  },
  {
   "cell_type": "code",
   "execution_count": null,
   "metadata": {},
   "outputs": [],
   "source": [
    "import importlib\n",
    "importlib.reload(bss)"
   ]
  },
  {
   "cell_type": "code",
   "execution_count": null,
   "metadata": {},
   "outputs": [],
   "source": [
    "#  parameter values\n",
    "S0 = 100\n",
    "K = 105\n",
    "T = 1\n",
    "r = 0.05\n",
    "sigma = 0.2"
   ]
  },
  {
   "cell_type": "code",
   "execution_count": null,
   "metadata": {},
   "outputs": [],
   "source": [
    "# Set up the x axis\n",
    "x = np.linspace(-5,5,100)\n",
    "# Here's the normal distribution\n",
    "y = stats.norm.pdf(x,0,1)\n",
    "plt.plot(x,y)\n",
    "\n",
    "# Plot our bounds\n",
    "plt.vlines(-1.96, 0, 1, colors='r', linestyles='dashed')\n",
    "plt.vlines(1.96, 0, 1, colors='r', linestyles='dashed')\n",
    "\n",
    "# Shade the area\n",
    "fill_x = np.linspace(-1.96, 1.96, 500)\n",
    "fill_y = stats.norm.pdf(fill_x, 0, 1)\n",
    "plt.fill_between(fill_x, fill_y)\n",
    "\n",
    "plt.xlabel('$\\sigma$')\n",
    "plt.ylabel('Normal PDF');"
   ]
  },
  {
   "cell_type": "markdown",
   "metadata": {},
   "source": [
    "Rather than just reporting the sample (MC) mean without any sense of probability of it being correct,  we can compute an interval and be much more confident that the true value (BS) lies in that interval. To do this we take our sample mean $μ$  and report $(μ−1.96SE,μ+1.96SE)$, where SE is the Standard Error, that is $SE = \\frac{\\sigma}{\\sqrt{N}}$.  \n",
    "\n",
    "This works because assuming normality, that interval will contain the population mean 95% of the time."
   ]
  },
  {
   "cell_type": "code",
   "execution_count": null,
   "metadata": {},
   "outputs": [],
   "source": [
    "plt.figure(figsize=(8,4))\n",
    "\n",
    "n_paths = np.arange(5000, 300001, 5000)\n",
    "\n",
    "bscall = bss.call_bs_formula(S0, K, T, r, sigma)\n",
    "plt.plot([n_paths[0], n_paths[-1]], [bscall, bscall], linewidth=3, label=\"BS price\");\n",
    "\n",
    "for i, n in enumerate(n_paths):\n",
    "    v, low, high = bss.call_mc(S0, K, T, r, sigma, n)\n",
    "    plt.plot((n, n), (low, high), color='blue', linewidth=1)\n",
    "    plt.plot(n, v, marker='o', linestyle='None');\n",
    "\n",
    "plt.title(\"Convergence of Monte Carlo price to the BS (true) price\")\n",
    "plt.xlabel('number of paths')\n",
    "plt.ylabel('call value')\n",
    "plt.legend();"
   ]
  },
  {
   "cell_type": "markdown",
   "metadata": {},
   "source": [
    "**Z**: In any given case, the true value of the estimate (BS) and the bounds of the confidence interval are fixed. It is incorrect to say that \"BS call price between 7.98 and 8.35 USD with 95% probability,\" but unfortunately this is a very common misinterpretation. Rather, the 95% refers instead to the fact that over many computations of a 95% confidence interval, the true value will be in the interval in 95% of the cases. But in fact for a single sample and the single confidence interval computed from it, we have no way of assessing the probability that the interval contains the population mean. The visualization above demonstrates this."
   ]
  },
  {
   "cell_type": "markdown",
   "metadata": {},
   "source": [
    "#### let's vizualise the call value for different strikes and maturities: "
   ]
  },
  {
   "cell_type": "code",
   "execution_count": null,
   "metadata": {},
   "outputs": [],
   "source": [
    "BSCall = lambda x: bss.call_bs_formula(S0, x[0], x[1], r, sigma) \n",
    "bss.plot3d(f=BSCall, x_dom=(80, 120, 20), y_dom=(0.05, 2.0, 20), labels=(\"K\", \"T\", \"BSCall\"))"
   ]
  }
 ],
 "metadata": {
  "kernelspec": {
   "display_name": "Python 3",
   "language": "python",
   "name": "python3"
  },
  "language_info": {
   "codemirror_mode": {
    "name": "ipython",
    "version": 3
   },
   "file_extension": ".py",
   "mimetype": "text/x-python",
   "name": "python",
   "nbconvert_exporter": "python",
   "pygments_lexer": "ipython3",
   "version": "3.7.3"
  }
 },
 "nbformat": 4,
 "nbformat_minor": 2
}
